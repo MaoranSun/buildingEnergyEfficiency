{
 "cells": [
  {
   "cell_type": "markdown",
   "metadata": {},
   "source": [
    "# EPC Data Preprocessing"
   ]
  },
  {
   "cell_type": "markdown",
   "metadata": {},
   "source": [
    "Data source:\n",
    "    Scottish EPC: https://statistics.gov.scot/data/domestic-energy-performance-certificates\n",
    "\n",
    "We selected 168410 EPC records for domestic buildings from October 2012 to March 2021 in Glasgoow, and filtered out the records whose coordinates fall outside the study area after geocoding. Then we got 165318 recoords."
   ]
  },
  {
   "cell_type": "code",
   "execution_count": 2,
   "metadata": {},
   "outputs": [],
   "source": [
    "import numpy as np \n",
    "import pandas as pd \n",
    "from scipy.stats import norm\n",
    "from sklearn.preprocessing import StandardScaler\n",
    "from scipy import stats\n",
    "from sklearn.utils import shuffle\n",
    "from sklearn.model_selection import train_test_split\n",
    "import os\n",
    "import matplotlib.pyplot as plt \n",
    "import seaborn as sns\n",
    "import warnings\n",
    "import datetime\n",
    "import glob\n",
    "import json\n",
    "import re"
   ]
  },
  {
   "cell_type": "code",
   "execution_count": 3,
   "metadata": {},
   "outputs": [],
   "source": [
    "pd.set_option('display.max_columns', None)\n",
    "warnings.filterwarnings(\"ignore\")"
   ]
  },
  {
   "cell_type": "code",
   "execution_count": 4,
   "metadata": {},
   "outputs": [],
   "source": [
    "epc_all = pd.read_csv('epc_gla_footprint.csv')"
   ]
  },
  {
   "cell_type": "code",
   "execution_count": 5,
   "metadata": {},
   "outputs": [
    {
     "data": {
      "text/html": [
       "<div>\n",
       "<style scoped>\n",
       "    .dataframe tbody tr th:only-of-type {\n",
       "        vertical-align: middle;\n",
       "    }\n",
       "\n",
       "    .dataframe tbody tr th {\n",
       "        vertical-align: top;\n",
       "    }\n",
       "\n",
       "    .dataframe thead th {\n",
       "        text-align: right;\n",
       "    }\n",
       "</style>\n",
       "<table border=\"1\" class=\"dataframe\">\n",
       "  <thead>\n",
       "    <tr style=\"text-align: right;\">\n",
       "      <th></th>\n",
       "      <th>Unnamed: 0</th>\n",
       "      <th>original_gla_index</th>\n",
       "      <th>original_index</th>\n",
       "      <th>address_before_index</th>\n",
       "      <th>Property_UPRN</th>\n",
       "      <th>OSG_UPRN</th>\n",
       "      <th>ADDRESS1</th>\n",
       "      <th>ADDRESS2</th>\n",
       "      <th>POST_TOWN</th>\n",
       "      <th>Postcode</th>\n",
       "      <th>Flat Level</th>\n",
       "      <th>Flat Location</th>\n",
       "      <th>Total floor area (m2)</th>\n",
       "      <th>Improvements</th>\n",
       "      <th>Primary Energy Indicator (kWh/m2/year)</th>\n",
       "      <th>Current energy efficiency rating</th>\n",
       "      <th>Current energy efficiency rating band</th>\n",
       "      <th>Potential Energy Efficiency Rating</th>\n",
       "      <th>Potential energy efficiency rating band</th>\n",
       "      <th>Current Environmental Impact Rating</th>\n",
       "      <th>Current Environmental Impact Rating Band</th>\n",
       "      <th>Potential Environmental Impact Rating</th>\n",
       "      <th>Potential Environmental Impact Rating Band</th>\n",
       "      <th>WALL_DESCRIPTION</th>\n",
       "      <th>WALL_ENERGY_EFF</th>\n",
       "      <th>WALL_ENV_EFF</th>\n",
       "      <th>ROOF_DESCRIPTION</th>\n",
       "      <th>ROOF_ENERGY_EFF</th>\n",
       "      <th>ROOF_ENV_EFF</th>\n",
       "      <th>FLOOR_DESCRIPTION</th>\n",
       "      <th>FLOOR_ENERGY_EFF</th>\n",
       "      <th>FLOOR_ENV_EFF</th>\n",
       "      <th>WINDOWS_DESCRIPTION</th>\n",
       "      <th>WINDOWS_ENERGY_EFF</th>\n",
       "      <th>WINDOWS_ENV_EFF</th>\n",
       "      <th>MAINHEAT_DESCRIPTION</th>\n",
       "      <th>MAINHEAT_ENERGY_EFF</th>\n",
       "      <th>MAINHEAT_ENV_EFF</th>\n",
       "      <th>MAINHEATCONT_DESCRIPTION</th>\n",
       "      <th>MAINHEATC_ENERGY_EFF</th>\n",
       "      <th>MAINHEATC_ENV_EFF</th>\n",
       "      <th>SECONDHEAT_DESCRIPTION</th>\n",
       "      <th>SHEATING_ENERGY_EFF</th>\n",
       "      <th>SHEATING_ENV_EFF</th>\n",
       "      <th>HOTWATER_DESCRIPTION</th>\n",
       "      <th>HOT_WATER_ENERGY_EFF</th>\n",
       "      <th>HOT_WATER_ENV_EFF</th>\n",
       "      <th>LIGHTING_DESCRIPTION</th>\n",
       "      <th>LIGHTING_ENERGY_EFF</th>\n",
       "      <th>LIGHTING_ENV_EFF</th>\n",
       "      <th>AIR_TIGHTNESS_DESCRIPTION</th>\n",
       "      <th>AIR_TIGHTNESS_ENERGY_EFF</th>\n",
       "      <th>AIR_TIGHTNESS_ENV_EFF</th>\n",
       "      <th>CO2 Emissions Current Per Floor Area (kg.CO2/m2/yr)</th>\n",
       "      <th>Current Emissions (T.CO2/yr)</th>\n",
       "      <th>Potential Reduction in Emissions (T.CO2/yr)</th>\n",
       "      <th>Total current energy costs over 3 years (¡ê)</th>\n",
       "      <th>Potential future savings over 3 years (¡ê)</th>\n",
       "      <th>Current heating costs over 3 years (_£)</th>\n",
       "      <th>Potential heating costs over 3 years (_£)</th>\n",
       "      <th>Current hot water costs over 3 years (_£)</th>\n",
       "      <th>Potential hot water costs over 3 years (_£)</th>\n",
       "      <th>Current lighting costs over 3 years (_£)</th>\n",
       "      <th>Potential lighting costs over 3 years (_£)</th>\n",
       "      <th>Alternative Measures</th>\n",
       "      <th>LZC Energy Source</th>\n",
       "      <th>Space Heating</th>\n",
       "      <th>Water Heating</th>\n",
       "      <th>Impact Of Loft Insulation</th>\n",
       "      <th>Impact Of Cavity Wall Insulation</th>\n",
       "      <th>Impact Of Solid Wall Insulation</th>\n",
       "      <th>Addendum Text</th>\n",
       "      <th>Part 1 Construction Age Band</th>\n",
       "      <th>Part 1 Floor 0 Room Height</th>\n",
       "      <th>Data Zone</th>\n",
       "      <th>Energy Consumption Potential</th>\n",
       "      <th>Extensions Count</th>\n",
       "      <th>Fixed Lighting Outlets Count</th>\n",
       "      <th>Low Energy Lighting Outlets Count</th>\n",
       "      <th>Low Energy Lighting %</th>\n",
       "      <th>Glazed Area</th>\n",
       "      <th>Habitable Room Count</th>\n",
       "      <th>Heat Loss Corridor</th>\n",
       "      <th>Heated Room Count</th>\n",
       "      <th>Local Authority</th>\n",
       "      <th>Main Gas</th>\n",
       "      <th>Main Heating 1 Category</th>\n",
       "      <th>Main Heating 1 Fuel Type</th>\n",
       "      <th>Main Heating 1 Control</th>\n",
       "      <th>Mechanical Ventilation</th>\n",
       "      <th>Meter Type</th>\n",
       "      <th>Multiple Glazed Proportion</th>\n",
       "      <th>Multiple Glazing Type</th>\n",
       "      <th>Open Fireplaces Count</th>\n",
       "      <th>Photovoltaic Supply</th>\n",
       "      <th>Solar Water Heating</th>\n",
       "      <th>Tenure</th>\n",
       "      <th>Transaction Type</th>\n",
       "      <th>Unheated Corridor Length</th>\n",
       "      <th>Ward Code</th>\n",
       "      <th>Ward Name</th>\n",
       "      <th>Wind Turbines Count</th>\n",
       "      <th>Built Form</th>\n",
       "      <th>Property Type</th>\n",
       "      <th>Type of Assessment</th>\n",
       "      <th>year</th>\n",
       "      <th>quarter</th>\n",
       "      <th>Date of Certificate</th>\n",
       "      <th>Date of Assessment</th>\n",
       "      <th>address</th>\n",
       "      <th>location</th>\n",
       "      <th>Distance</th>\n",
       "      <th>lat</th>\n",
       "      <th>long</th>\n",
       "      <th>bui_id</th>\n",
       "      <th>prop_id</th>\n",
       "      <th>prop_area</th>\n",
       "      <th>bui_area</th>\n",
       "      <th>map_bl_no</th>\n",
       "      <th>height</th>\n",
       "      <th>age</th>\n",
       "      <th>use</th>\n",
       "      <th>data_level</th>\n",
       "      <th>geometry</th>\n",
       "    </tr>\n",
       "  </thead>\n",
       "  <tbody>\n",
       "    <tr>\n",
       "      <th>0</th>\n",
       "      <td>0</td>\n",
       "      <td>3471</td>\n",
       "      <td>32719</td>\n",
       "      <td>57626</td>\n",
       "      <td>1234922117</td>\n",
       "      <td>NaN</td>\n",
       "      <td>3/1,</td>\n",
       "      <td>4 Buccleuch</td>\n",
       "      <td>Glasgow</td>\n",
       "      <td>G3 6SL</td>\n",
       "      <td>3.0</td>\n",
       "      <td>3</td>\n",
       "      <td>71</td>\n",
       "      <td>Description: Cavity wall insulation; Indicativ...</td>\n",
       "      <td>130</td>\n",
       "      <td>80</td>\n",
       "      <td>C</td>\n",
       "      <td>81</td>\n",
       "      <td>B</td>\n",
       "      <td>81</td>\n",
       "      <td>B</td>\n",
       "      <td>83</td>\n",
       "      <td>B</td>\n",
       "      <td>Cavity wall, as built, partial insulation (ass...</td>\n",
       "      <td>Average | Good |</td>\n",
       "      <td>Average | Good |</td>\n",
       "      <td>Pitched, 300 mm loft insulation |</td>\n",
       "      <td>Very Good |</td>\n",
       "      <td>Very Good |</td>\n",
       "      <td>(another dwelling below) |</td>\n",
       "      <td>N/A |</td>\n",
       "      <td>N/A |</td>\n",
       "      <td>Description: Fully double glazed |</td>\n",
       "      <td>Average |</td>\n",
       "      <td>Average |</td>\n",
       "      <td>Boiler and radiators, mains gas |</td>\n",
       "      <td>Good |</td>\n",
       "      <td>Good |</td>\n",
       "      <td>Programmer, TRVs and bypass |</td>\n",
       "      <td>Average |</td>\n",
       "      <td>Average |</td>\n",
       "      <td>None |</td>\n",
       "      <td>N/A |</td>\n",
       "      <td>N/A |</td>\n",
       "      <td>From main system |</td>\n",
       "      <td>Good |</td>\n",
       "      <td>Good |</td>\n",
       "      <td>Low energy lighting in all fixed outlets |</td>\n",
       "      <td>Very Good |</td>\n",
       "      <td>Very Good |</td>\n",
       "      <td>NaN</td>\n",
       "      <td>NaN</td>\n",
       "      <td>NaN</td>\n",
       "      <td>23.0</td>\n",
       "      <td>1.6</td>\n",
       "      <td>0.1</td>\n",
       "      <td>1338</td>\n",
       "      <td>75</td>\n",
       "      <td>939</td>\n",
       "      <td>864</td>\n",
       "      <td>249</td>\n",
       "      <td>249</td>\n",
       "      <td>150</td>\n",
       "      <td>150</td>\n",
       "      <td>NaN</td>\n",
       "      <td>NaN</td>\n",
       "      <td>3620.0</td>\n",
       "      <td>1734</td>\n",
       "      <td>0</td>\n",
       "      <td>-490</td>\n",
       "      <td>0</td>\n",
       "      <td>NaN</td>\n",
       "      <td>1976-1983</td>\n",
       "      <td>2.28</td>\n",
       "      <td>S01003446 (City Centre West)</td>\n",
       "      <td>120</td>\n",
       "      <td>0</td>\n",
       "      <td>8</td>\n",
       "      <td>8</td>\n",
       "      <td>100</td>\n",
       "      <td>1</td>\n",
       "      <td>3</td>\n",
       "      <td>unheated corridor</td>\n",
       "      <td>3</td>\n",
       "      <td>Glasgow City</td>\n",
       "      <td>NaN</td>\n",
       "      <td>boiler with radiators or underfloor heating</td>\n",
       "      <td>mains gas (not community)</td>\n",
       "      <td>2107</td>\n",
       "      <td>natural</td>\n",
       "      <td>Single</td>\n",
       "      <td>100</td>\n",
       "      <td>double glazing installed before 2002</td>\n",
       "      <td>0</td>\n",
       "      <td>Array: Roof Area: 0%; Connection: not applicab...</td>\n",
       "      <td>N</td>\n",
       "      <td>rented (social)</td>\n",
       "      <td>rental</td>\n",
       "      <td>3.67</td>\n",
       "      <td>00QSMK</td>\n",
       "      <td>Anderston/City</td>\n",
       "      <td>0</td>\n",
       "      <td>Mid-Terrace</td>\n",
       "      <td>Flat</td>\n",
       "      <td>RdSAP, existing dwelling</td>\n",
       "      <td>2015</td>\n",
       "      <td>3</td>\n",
       "      <td>09/09/2015</td>\n",
       "      <td>24/07/2015</td>\n",
       "      <td>4 Buccleuch ,GLASGOW,G3 6SL</td>\n",
       "      <td>[{'address_components': [{'long_name': '4', 's...</td>\n",
       "      <td>0.0</td>\n",
       "      <td>55.867443</td>\n",
       "      <td>-4.260008</td>\n",
       "      <td>14538798</td>\n",
       "      <td>23799207</td>\n",
       "      <td>312.4</td>\n",
       "      <td>1365.0</td>\n",
       "      <td>EG1214</td>\n",
       "      <td>14.8</td>\n",
       "      <td>UNCLASSIFIED</td>\n",
       "      <td>RESIDENTIAL ONLY</td>\n",
       "      <td>FHU</td>\n",
       "      <td>POLYGON ((258678.8498 666129.1659999993, 25869...</td>\n",
       "    </tr>\n",
       "  </tbody>\n",
       "</table>\n",
       "</div>"
      ],
      "text/plain": [
       "   Unnamed: 0  original_gla_index  original_index  address_before_index  \\\n",
       "0           0                3471           32719                 57626   \n",
       "\n",
       "   Property_UPRN  OSG_UPRN ADDRESS1      ADDRESS2 POST_TOWN Postcode  \\\n",
       "0     1234922117       NaN     3/1,  4 Buccleuch   Glasgow    G3 6SL   \n",
       "\n",
       "   Flat Level Flat Location  Total floor area (m2)  \\\n",
       "0         3.0             3                     71   \n",
       "\n",
       "                                        Improvements  \\\n",
       "0  Description: Cavity wall insulation; Indicativ...   \n",
       "\n",
       "   Primary Energy Indicator (kWh/m2/year)  Current energy efficiency rating  \\\n",
       "0                                     130                                80   \n",
       "\n",
       "  Current energy efficiency rating band  Potential Energy Efficiency Rating  \\\n",
       "0                                     C                                  81   \n",
       "\n",
       "  Potential energy efficiency rating band  \\\n",
       "0                                       B   \n",
       "\n",
       "   Current Environmental Impact Rating  \\\n",
       "0                                   81   \n",
       "\n",
       "  Current Environmental Impact Rating Band  \\\n",
       "0                                        B   \n",
       "\n",
       "   Potential Environmental Impact Rating  \\\n",
       "0                                     83   \n",
       "\n",
       "  Potential Environmental Impact Rating Band  \\\n",
       "0                                          B   \n",
       "\n",
       "                                    WALL_DESCRIPTION    WALL_ENERGY_EFF  \\\n",
       "0  Cavity wall, as built, partial insulation (ass...  Average | Good |    \n",
       "\n",
       "        WALL_ENV_EFF                    ROOF_DESCRIPTION ROOF_ENERGY_EFF  \\\n",
       "0  Average | Good |   Pitched, 300 mm loft insulation |     Very Good |    \n",
       "\n",
       "   ROOF_ENV_EFF            FLOOR_DESCRIPTION FLOOR_ENERGY_EFF FLOOR_ENV_EFF  \\\n",
       "0  Very Good |   (another dwelling below) |            N/A |         N/A |    \n",
       "\n",
       "                   WINDOWS_DESCRIPTION WINDOWS_ENERGY_EFF WINDOWS_ENV_EFF  \\\n",
       "0  Description: Fully double glazed |          Average |       Average |    \n",
       "\n",
       "                 MAINHEAT_DESCRIPTION MAINHEAT_ENERGY_EFF MAINHEAT_ENV_EFF  \\\n",
       "0  Boiler and radiators, mains gas |              Good |           Good |    \n",
       "\n",
       "         MAINHEATCONT_DESCRIPTION MAINHEATC_ENERGY_EFF MAINHEATC_ENV_EFF  \\\n",
       "0  Programmer, TRVs and bypass |            Average |         Average |    \n",
       "\n",
       "  SECONDHEAT_DESCRIPTION SHEATING_ENERGY_EFF SHEATING_ENV_EFF  \\\n",
       "0                None |               N/A |            N/A |    \n",
       "\n",
       "  HOTWATER_DESCRIPTION HOT_WATER_ENERGY_EFF HOT_WATER_ENV_EFF  \\\n",
       "0  From main system |               Good |            Good |    \n",
       "\n",
       "                          LIGHTING_DESCRIPTION LIGHTING_ENERGY_EFF  \\\n",
       "0  Low energy lighting in all fixed outlets |         Very Good |    \n",
       "\n",
       "  LIGHTING_ENV_EFF AIR_TIGHTNESS_DESCRIPTION AIR_TIGHTNESS_ENERGY_EFF  \\\n",
       "0     Very Good |                        NaN                      NaN   \n",
       "\n",
       "  AIR_TIGHTNESS_ENV_EFF  CO2 Emissions Current Per Floor Area (kg.CO2/m2/yr)  \\\n",
       "0                   NaN                                               23.0     \n",
       "\n",
       "   Current Emissions (T.CO2/yr)  Potential Reduction in Emissions (T.CO2/yr)  \\\n",
       "0                           1.6                                          0.1   \n",
       "\n",
       "   Total current energy costs over 3 years (¡ê)  \\\n",
       "0                                          1338   \n",
       "\n",
       "   Potential future savings over 3 years (¡ê)  \\\n",
       "0                                          75   \n",
       "\n",
       "   Current heating costs over 3 years (_£)  \\\n",
       "0                                      939   \n",
       "\n",
       "   Potential heating costs over 3 years (_£)  \\\n",
       "0                                        864   \n",
       "\n",
       "   Current hot water costs over 3 years (_£)  \\\n",
       "0                                        249   \n",
       "\n",
       "   Potential hot water costs over 3 years (_£)  \\\n",
       "0                                          249   \n",
       "\n",
       "   Current lighting costs over 3 years (_£)  \\\n",
       "0                                       150   \n",
       "\n",
       "   Potential lighting costs over 3 years (_£) Alternative Measures  \\\n",
       "0                                         150                  NaN   \n",
       "\n",
       "  LZC Energy Source  Space Heating  Water Heating  Impact Of Loft Insulation  \\\n",
       "0               NaN         3620.0           1734                          0   \n",
       "\n",
       "   Impact Of Cavity Wall Insulation  Impact Of Solid Wall Insulation  \\\n",
       "0                              -490                                0   \n",
       "\n",
       "   Addendum Text Part 1 Construction Age Band  Part 1 Floor 0 Room Height  \\\n",
       "0            NaN                    1976-1983                        2.28   \n",
       "\n",
       "                      Data Zone  Energy Consumption Potential  \\\n",
       "0  S01003446 (City Centre West)                           120   \n",
       "\n",
       "   Extensions Count  Fixed Lighting Outlets Count  \\\n",
       "0                 0                             8   \n",
       "\n",
       "   Low Energy Lighting Outlets Count  Low Energy Lighting %  Glazed Area  \\\n",
       "0                                  8                    100            1   \n",
       "\n",
       "   Habitable Room Count Heat Loss Corridor  Heated Room Count Local Authority  \\\n",
       "0                     3  unheated corridor                  3    Glasgow City   \n",
       "\n",
       "  Main Gas                      Main Heating 1 Category  \\\n",
       "0      NaN  boiler with radiators or underfloor heating   \n",
       "\n",
       "    Main Heating 1 Fuel Type  Main Heating 1 Control Mechanical Ventilation  \\\n",
       "0  mains gas (not community)                    2107                natural   \n",
       "\n",
       "  Meter Type  Multiple Glazed Proportion  \\\n",
       "0     Single                         100   \n",
       "\n",
       "                  Multiple Glazing Type  Open Fireplaces Count  \\\n",
       "0  double glazing installed before 2002                      0   \n",
       "\n",
       "                                 Photovoltaic Supply Solar Water Heating  \\\n",
       "0  Array: Roof Area: 0%; Connection: not applicab...                   N   \n",
       "\n",
       "            Tenure Transaction Type  Unheated Corridor Length Ward Code  \\\n",
       "0  rented (social)           rental                      3.67    00QSMK   \n",
       "\n",
       "        Ward Name  Wind Turbines Count   Built Form Property Type  \\\n",
       "0  Anderston/City                    0  Mid-Terrace          Flat   \n",
       "\n",
       "         Type of Assessment  year  quarter Date of Certificate  \\\n",
       "0  RdSAP, existing dwelling  2015        3          09/09/2015   \n",
       "\n",
       "  Date of Assessment                      address  \\\n",
       "0         24/07/2015  4 Buccleuch ,GLASGOW,G3 6SL   \n",
       "\n",
       "                                            location  Distance        lat  \\\n",
       "0  [{'address_components': [{'long_name': '4', 's...       0.0  55.867443   \n",
       "\n",
       "       long    bui_id   prop_id  prop_area  bui_area map_bl_no  height  \\\n",
       "0 -4.260008  14538798  23799207      312.4    1365.0    EG1214    14.8   \n",
       "\n",
       "            age               use data_level  \\\n",
       "0  UNCLASSIFIED  RESIDENTIAL ONLY        FHU   \n",
       "\n",
       "                                            geometry  \n",
       "0  POLYGON ((258678.8498 666129.1659999993, 25869...  "
      ]
     },
     "execution_count": 5,
     "metadata": {},
     "output_type": "execute_result"
    }
   ],
   "source": [
    "epc_all.head(1)"
   ]
  },
  {
   "cell_type": "code",
   "execution_count": 6,
   "metadata": {
    "scrolled": true
   },
   "outputs": [
    {
     "data": {
      "text/plain": [
       "165318"
      ]
     },
     "execution_count": 6,
     "metadata": {},
     "output_type": "execute_result"
    }
   ],
   "source": [
    "len(epc_all)"
   ]
  },
  {
   "cell_type": "markdown",
   "metadata": {},
   "source": [
    "The following code relating to data preprocessing refers to repo energy-efficiency [https://github.com/datasciencecampus/energy-efficiency]. "
   ]
  },
  {
   "cell_type": "markdown",
   "metadata": {},
   "source": [
    "## Choose variables"
   ]
  },
  {
   "cell_type": "code",
   "execution_count": 7,
   "metadata": {},
   "outputs": [],
   "source": [
    "var_list = ['Property_UPRN','Flat Level','Total floor area (m2)','Current energy efficiency rating band',\n",
    "            'WALL_DESCRIPTION','ROOF_DESCRIPTION','FLOOR_DESCRIPTION','WINDOWS_DESCRIPTION','MAINHEAT_DESCRIPTION',\n",
    "            'MAINHEATCONT_DESCRIPTION','SECONDHEAT_DESCRIPTION','HOTWATER_DESCRIPTION','LIGHTING_DESCRIPTION',\n",
    "            'AIR_TIGHTNESS_DESCRIPTION','LZC Energy Source','Part 1 Construction Age Band','Low Energy Lighting %',\n",
    "            'Part 1 Floor 0 Room Height',\n",
    "            'Habitable Room Count','Heat Loss Corridor','Main Gas','Main Heating 1 Fuel Type',\n",
    "            'Main Heating 1 Category','Main Heating 1 Control','Mechanical Ventilation','Meter Type',\n",
    "            'Multiple Glazed Proportion','Multiple Glazing Type','Open Fireplaces Count','Photovoltaic Supply',\n",
    "            'Solar Water Heating','Unheated Corridor Length','Wind Turbines Count','Built Form','Property Type',\n",
    "            'Transaction Type']\n"
   ]
  },
  {
   "cell_type": "code",
   "execution_count": 8,
   "metadata": {},
   "outputs": [],
   "source": [
    "epc = epc_all[var_list]"
   ]
  },
  {
   "cell_type": "markdown",
   "metadata": {},
   "source": [
    "## Investigate numeric fields"
   ]
  },
  {
   "cell_type": "code",
   "execution_count": 9,
   "metadata": {},
   "outputs": [],
   "source": [
    "var_list_num = epc.select_dtypes(include= 'number').columns.tolist()"
   ]
  },
  {
   "cell_type": "code",
   "execution_count": 10,
   "metadata": {},
   "outputs": [
    {
     "data": {
      "text/plain": [
       "Unheated Corridor Length      0.418055\n",
       "Flat Level                    0.231959\n",
       "Part 1 Floor 0 Room Height    0.021903\n",
       "Wind Turbines Count           0.000000\n",
       "Open Fireplaces Count         0.000000\n",
       "Multiple Glazed Proportion    0.000000\n",
       "Main Heating 1 Control        0.000000\n",
       "Habitable Room Count          0.000000\n",
       "Low Energy Lighting %         0.000000\n",
       "Total floor area (m2)         0.000000\n",
       "Property_UPRN                 0.000000\n",
       "dtype: float64"
      ]
     },
     "execution_count": 10,
     "metadata": {},
     "output_type": "execute_result"
    }
   ],
   "source": [
    "epc[var_list_num].isnull().sum().sort_values(ascending = False) / epc.shape[0]"
   ]
  },
  {
   "cell_type": "markdown",
   "metadata": {},
   "source": [
    "Drop 'Unheated Corridor Length' and 'Flat Level ' due to high percentage of missing values."
   ]
  },
  {
   "cell_type": "code",
   "execution_count": 11,
   "metadata": {},
   "outputs": [],
   "source": [
    "epc.drop(['Unheated Corridor Length','Flat Level'],\n",
    "        axis = 1,\n",
    "        inplace = True)\n",
    "var_list_num.remove('Unheated Corridor Length')\n",
    "var_list_num.remove('Flat Level')"
   ]
  },
  {
   "cell_type": "code",
   "execution_count": 12,
   "metadata": {},
   "outputs": [],
   "source": [
    "var_list_num = epc.select_dtypes(include= 'number').columns.tolist()"
   ]
  },
  {
   "cell_type": "code",
   "execution_count": 13,
   "metadata": {},
   "outputs": [
    {
     "data": {
      "text/plain": [
       "165318"
      ]
     },
     "execution_count": 13,
     "metadata": {},
     "output_type": "execute_result"
    }
   ],
   "source": [
    "len(epc)"
   ]
  },
  {
   "cell_type": "code",
   "execution_count": 14,
   "metadata": {},
   "outputs": [
    {
     "data": {
      "text/plain": [
       "array([[<matplotlib.axes._subplots.AxesSubplot object at 0x7f9cb03fabe0>,\n",
       "        <matplotlib.axes._subplots.AxesSubplot object at 0x7f9cb27f3d90>,\n",
       "        <matplotlib.axes._subplots.AxesSubplot object at 0x7f9cb2826250>],\n",
       "       [<matplotlib.axes._subplots.AxesSubplot object at 0x7f9cb284f6a0>,\n",
       "        <matplotlib.axes._subplots.AxesSubplot object at 0x7f9cb287c280>,\n",
       "        <matplotlib.axes._subplots.AxesSubplot object at 0x7f9cb28ae610>],\n",
       "       [<matplotlib.axes._subplots.AxesSubplot object at 0x7f9cb28ae700>,\n",
       "        <matplotlib.axes._subplots.AxesSubplot object at 0x7f9cb28dabb0>,\n",
       "        <matplotlib.axes._subplots.AxesSubplot object at 0x7f9cb2940430>]],\n",
       "      dtype=object)"
      ]
     },
     "execution_count": 14,
     "metadata": {},
     "output_type": "execute_result"
    },
    {
     "data": {
      "image/png": "[encoded data removed]",
      "text/plain": [
       "<Figure size 1440x1440 with 9 Axes>"
      ]
     },
     "metadata": {
      "needs_background": "light"
     },
     "output_type": "display_data"
    }
   ],
   "source": [
    "fig, ax = plt.subplots(figsize = (20,20))\n",
    "epc[var_list_num].hist(bins=30,ax = ax)"
   ]
  },
  {
   "cell_type": "markdown",
   "metadata": {},
   "source": [
    "Drop 'Wind Turbines Count', because "
   ]
  },
  {
   "cell_type": "code",
   "execution_count": 15,
   "metadata": {},
   "outputs": [],
   "source": [
    "epc.drop(['Wind Turbines Count'],\n",
    "        axis = 1,\n",
    "        inplace = True)\n",
    "var_list_num.remove('Wind Turbines Count')"
   ]
  },
  {
   "cell_type": "code",
   "execution_count": 16,
   "metadata": {},
   "outputs": [],
   "source": [
    "var_list_num.remove('Property_UPRN')"
   ]
  },
  {
   "cell_type": "code",
   "execution_count": 17,
   "metadata": {},
   "outputs": [
    {
     "data": {
      "text/html": [
       "<div>\n",
       "<style scoped>\n",
       "    .dataframe tbody tr th:only-of-type {\n",
       "        vertical-align: middle;\n",
       "    }\n",
       "\n",
       "    .dataframe tbody tr th {\n",
       "        vertical-align: top;\n",
       "    }\n",
       "\n",
       "    .dataframe thead th {\n",
       "        text-align: right;\n",
       "    }\n",
       "</style>\n",
       "<table border=\"1\" class=\"dataframe\">\n",
       "  <thead>\n",
       "    <tr style=\"text-align: right;\">\n",
       "      <th></th>\n",
       "      <th>Total floor area (m2)</th>\n",
       "      <th>Low Energy Lighting %</th>\n",
       "      <th>Part 1 Floor 0 Room Height</th>\n",
       "      <th>Habitable Room Count</th>\n",
       "      <th>Main Heating 1 Control</th>\n",
       "      <th>Multiple Glazed Proportion</th>\n",
       "      <th>Open Fireplaces Count</th>\n",
       "    </tr>\n",
       "  </thead>\n",
       "  <tbody>\n",
       "    <tr>\n",
       "      <th>count</th>\n",
       "      <td>165318.000000</td>\n",
       "      <td>165318.000000</td>\n",
       "      <td>161697.000000</td>\n",
       "      <td>165318.000000</td>\n",
       "      <td>165318.000000</td>\n",
       "      <td>165318.000000</td>\n",
       "      <td>165318.000000</td>\n",
       "    </tr>\n",
       "    <tr>\n",
       "      <th>mean</th>\n",
       "      <td>76.644939</td>\n",
       "      <td>49.401723</td>\n",
       "      <td>2.632778</td>\n",
       "      <td>3.193857</td>\n",
       "      <td>2166.282825</td>\n",
       "      <td>82.942583</td>\n",
       "      <td>0.076828</td>\n",
       "    </tr>\n",
       "    <tr>\n",
       "      <th>std</th>\n",
       "      <td>34.811742</td>\n",
       "      <td>40.416641</td>\n",
       "      <td>0.385971</td>\n",
       "      <td>1.542864</td>\n",
       "      <td>138.337790</td>\n",
       "      <td>36.634347</td>\n",
       "      <td>0.356913</td>\n",
       "    </tr>\n",
       "    <tr>\n",
       "      <th>min</th>\n",
       "      <td>15.000000</td>\n",
       "      <td>0.000000</td>\n",
       "      <td>0.000000</td>\n",
       "      <td>0.000000</td>\n",
       "      <td>0.000000</td>\n",
       "      <td>0.000000</td>\n",
       "      <td>0.000000</td>\n",
       "    </tr>\n",
       "    <tr>\n",
       "      <th>25%</th>\n",
       "      <td>59.000000</td>\n",
       "      <td>0.000000</td>\n",
       "      <td>2.400000</td>\n",
       "      <td>2.000000</td>\n",
       "      <td>2106.000000</td>\n",
       "      <td>100.000000</td>\n",
       "      <td>0.000000</td>\n",
       "    </tr>\n",
       "    <tr>\n",
       "      <th>50%</th>\n",
       "      <td>71.000000</td>\n",
       "      <td>50.000000</td>\n",
       "      <td>2.500000</td>\n",
       "      <td>3.000000</td>\n",
       "      <td>2106.000000</td>\n",
       "      <td>100.000000</td>\n",
       "      <td>0.000000</td>\n",
       "    </tr>\n",
       "    <tr>\n",
       "      <th>75%</th>\n",
       "      <td>86.000000</td>\n",
       "      <td>100.000000</td>\n",
       "      <td>2.850000</td>\n",
       "      <td>4.000000</td>\n",
       "      <td>2107.000000</td>\n",
       "      <td>100.000000</td>\n",
       "      <td>0.000000</td>\n",
       "    </tr>\n",
       "    <tr>\n",
       "      <th>90%</th>\n",
       "      <td>109.000000</td>\n",
       "      <td>100.000000</td>\n",
       "      <td>3.150000</td>\n",
       "      <td>5.000000</td>\n",
       "      <td>2401.000000</td>\n",
       "      <td>100.000000</td>\n",
       "      <td>0.000000</td>\n",
       "    </tr>\n",
       "    <tr>\n",
       "      <th>95%</th>\n",
       "      <td>133.000000</td>\n",
       "      <td>100.000000</td>\n",
       "      <td>3.300000</td>\n",
       "      <td>6.000000</td>\n",
       "      <td>2404.000000</td>\n",
       "      <td>100.000000</td>\n",
       "      <td>1.000000</td>\n",
       "    </tr>\n",
       "    <tr>\n",
       "      <th>99%</th>\n",
       "      <td>203.000000</td>\n",
       "      <td>100.000000</td>\n",
       "      <td>3.790000</td>\n",
       "      <td>8.000000</td>\n",
       "      <td>2603.000000</td>\n",
       "      <td>100.000000</td>\n",
       "      <td>2.000000</td>\n",
       "    </tr>\n",
       "    <tr>\n",
       "      <th>99.99%</th>\n",
       "      <td>708.961100</td>\n",
       "      <td>100.000000</td>\n",
       "      <td>6.367776</td>\n",
       "      <td>20.468300</td>\n",
       "      <td>2706.000000</td>\n",
       "      <td>100.000000</td>\n",
       "      <td>7.000000</td>\n",
       "    </tr>\n",
       "    <tr>\n",
       "      <th>max</th>\n",
       "      <td>1379.000000</td>\n",
       "      <td>100.000000</td>\n",
       "      <td>26.800000</td>\n",
       "      <td>87.000000</td>\n",
       "      <td>2706.000000</td>\n",
       "      <td>100.000000</td>\n",
       "      <td>20.000000</td>\n",
       "    </tr>\n",
       "  </tbody>\n",
       "</table>\n",
       "</div>"
      ],
      "text/plain": [
       "        Total floor area (m2)  Low Energy Lighting %  \\\n",
       "count           165318.000000          165318.000000   \n",
       "mean                76.644939              49.401723   \n",
       "std                 34.811742              40.416641   \n",
       "min                 15.000000               0.000000   \n",
       "25%                 59.000000               0.000000   \n",
       "50%                 71.000000              50.000000   \n",
       "75%                 86.000000             100.000000   \n",
       "90%                109.000000             100.000000   \n",
       "95%                133.000000             100.000000   \n",
       "99%                203.000000             100.000000   \n",
       "99.99%             708.961100             100.000000   \n",
       "max               1379.000000             100.000000   \n",
       "\n",
       "        Part 1 Floor 0 Room Height  Habitable Room Count  \\\n",
       "count                161697.000000         165318.000000   \n",
       "mean                      2.632778              3.193857   \n",
       "std                       0.385971              1.542864   \n",
       "min                       0.000000              0.000000   \n",
       "25%                       2.400000              2.000000   \n",
       "50%                       2.500000              3.000000   \n",
       "75%                       2.850000              4.000000   \n",
       "90%                       3.150000              5.000000   \n",
       "95%                       3.300000              6.000000   \n",
       "99%                       3.790000              8.000000   \n",
       "99.99%                    6.367776             20.468300   \n",
       "max                      26.800000             87.000000   \n",
       "\n",
       "        Main Heating 1 Control  Multiple Glazed Proportion  \\\n",
       "count            165318.000000               165318.000000   \n",
       "mean               2166.282825                   82.942583   \n",
       "std                 138.337790                   36.634347   \n",
       "min                   0.000000                    0.000000   \n",
       "25%                2106.000000                  100.000000   \n",
       "50%                2106.000000                  100.000000   \n",
       "75%                2107.000000                  100.000000   \n",
       "90%                2401.000000                  100.000000   \n",
       "95%                2404.000000                  100.000000   \n",
       "99%                2603.000000                  100.000000   \n",
       "99.99%             2706.000000                  100.000000   \n",
       "max                2706.000000                  100.000000   \n",
       "\n",
       "        Open Fireplaces Count  \n",
       "count           165318.000000  \n",
       "mean                 0.076828  \n",
       "std                  0.356913  \n",
       "min                  0.000000  \n",
       "25%                  0.000000  \n",
       "50%                  0.000000  \n",
       "75%                  0.000000  \n",
       "90%                  0.000000  \n",
       "95%                  1.000000  \n",
       "99%                  2.000000  \n",
       "99.99%               7.000000  \n",
       "max                 20.000000  "
      ]
     },
     "execution_count": 17,
     "metadata": {},
     "output_type": "execute_result"
    }
   ],
   "source": [
    "audit_num = epc[var_list_num].describe(percentiles = [0.25,0.5,0.75,0.9,0.95,0.99,0.9999])\n",
    "audit_num"
   ]
  },
  {
   "cell_type": "markdown",
   "metadata": {},
   "source": [
    "clip"
   ]
  },
  {
   "cell_type": "code",
   "execution_count": 18,
   "metadata": {},
   "outputs": [],
   "source": [
    "min = 0\n",
    "maxPercentile = 0.9999\n",
    "for _ in var_list_num:\n",
    "    epc[_] =  epc[_].clip(0,(epc[_].quantile(maxPercentile)))"
   ]
  },
  {
   "cell_type": "markdown",
   "metadata": {},
   "source": [
    "## Numeric features correrlations against the other fields in the taxonomy"
   ]
  },
  {
   "cell_type": "code",
   "execution_count": 19,
   "metadata": {},
   "outputs": [
    {
     "data": {
      "image/png": "[encoded data removed]",
      "text/plain": [
       "<Figure size 792x648 with 2 Axes>"
      ]
     },
     "metadata": {
      "needs_background": "light"
     },
     "output_type": "display_data"
    }
   ],
   "source": [
    "corr_all = epc[var_list_num].corr()\n",
    "\n",
    "# plot correlations\n",
    "corr_all = round(corr_all,2)\n",
    "mask = np.zeros_like(corr_all, dtype=np.bool)\n",
    "mask[np.triu_indices_from(mask)] = True\n",
    "f, ax = plt.subplots(figsize=(11, 9))\n",
    "sns.heatmap(corr_all, mask=mask, cmap='RdYlGn', vmin = -1, vmax=1, center=0,square=True, linewidths=.5, cbar_kws={\"shrink\": .5}, annot=True)\n",
    "plt.show()"
   ]
  },
  {
   "cell_type": "code",
   "execution_count": 20,
   "metadata": {},
   "outputs": [],
   "source": [
    "epc.drop(['Habitable Room Count'],\n",
    "        axis = 1,\n",
    "        inplace = True)\n",
    "var_list_num.remove('Habitable Room Count')"
   ]
  },
  {
   "cell_type": "markdown",
   "metadata": {},
   "source": [
    "## Investigate categoric fields"
   ]
  },
  {
   "cell_type": "code",
   "execution_count": 21,
   "metadata": {},
   "outputs": [],
   "source": [
    "var_list_cat = epc.select_dtypes(include= ['object']).columns.tolist()"
   ]
  },
  {
   "cell_type": "code",
   "execution_count": 22,
   "metadata": {},
   "outputs": [],
   "source": [
    "# 调整位置"
   ]
  },
  {
   "cell_type": "code",
   "execution_count": 23,
   "metadata": {},
   "outputs": [],
   "source": [
    "epc['Main Heating 1 Control'] = epc['Main Heating 1 Control'].round(0).astype(str)\n",
    "var_list_num.remove('Main Heating 1 Control')\n",
    "var_list_cat.append('Main Heating 1 Control')"
   ]
  },
  {
   "cell_type": "code",
   "execution_count": 24,
   "metadata": {},
   "outputs": [
    {
     "data": {
      "text/plain": [
       "LZC Energy Source                        0.953193\n",
       "AIR_TIGHTNESS_DESCRIPTION                0.932578\n",
       "Main Gas                                 0.769178\n",
       "Heat Loss Corridor                       0.267672\n",
       "Part 1 Construction Age Band             0.080245\n",
       "Multiple Glazing Type                    0.067422\n",
       "Meter Type                               0.067422\n",
       "Solar Water Heating                      0.052904\n",
       "Mechanical Ventilation                   0.048918\n",
       "Photovoltaic Supply                      0.038544\n",
       "Built Form                               0.006527\n",
       "Main Heating 1 Fuel Type                 0.002728\n",
       "Transaction Type                         0.000018\n",
       "WINDOWS_DESCRIPTION                      0.000000\n",
       "FLOOR_DESCRIPTION                        0.000000\n",
       "ROOF_DESCRIPTION                         0.000000\n",
       "MAINHEATCONT_DESCRIPTION                 0.000000\n",
       "WALL_DESCRIPTION                         0.000000\n",
       "MAINHEAT_DESCRIPTION                     0.000000\n",
       "Main Heating 1 Control                   0.000000\n",
       "SECONDHEAT_DESCRIPTION                   0.000000\n",
       "HOTWATER_DESCRIPTION                     0.000000\n",
       "LIGHTING_DESCRIPTION                     0.000000\n",
       "Main Heating 1 Category                  0.000000\n",
       "Property Type                            0.000000\n",
       "Current energy efficiency rating band    0.000000\n",
       "dtype: float64"
      ]
     },
     "execution_count": 24,
     "metadata": {},
     "output_type": "execute_result"
    }
   ],
   "source": [
    "epc[var_list_cat].isnull().sum().sort_values(ascending = False) / epc.shape[0]"
   ]
  },
  {
   "cell_type": "markdown",
   "metadata": {},
   "source": [
    "Drop due to high percentage of missing values."
   ]
  },
  {
   "cell_type": "code",
   "execution_count": 25,
   "metadata": {},
   "outputs": [],
   "source": [
    "epc.drop(['LZC Energy Source','AIR_TIGHTNESS_DESCRIPTION','Main Gas','Heat Loss Corridor'],\n",
    "                axis = 1,\n",
    "                inplace = True)\n",
    "var_list_cat.remove('LZC Energy Source')\n",
    "var_list_cat.remove('AIR_TIGHTNESS_DESCRIPTION')\n",
    "var_list_cat.remove('Main Gas')   \n",
    "var_list_cat.remove('Heat Loss Corridor') "
   ]
  },
  {
   "cell_type": "code",
   "execution_count": 26,
   "metadata": {},
   "outputs": [
    {
     "data": {
      "text/plain": [
       "['Current energy efficiency rating band',\n",
       " 'WALL_DESCRIPTION',\n",
       " 'ROOF_DESCRIPTION',\n",
       " 'FLOOR_DESCRIPTION',\n",
       " 'WINDOWS_DESCRIPTION',\n",
       " 'MAINHEAT_DESCRIPTION',\n",
       " 'MAINHEATCONT_DESCRIPTION',\n",
       " 'SECONDHEAT_DESCRIPTION',\n",
       " 'HOTWATER_DESCRIPTION',\n",
       " 'LIGHTING_DESCRIPTION',\n",
       " 'Part 1 Construction Age Band',\n",
       " 'Main Heating 1 Fuel Type',\n",
       " 'Main Heating 1 Category',\n",
       " 'Mechanical Ventilation',\n",
       " 'Meter Type',\n",
       " 'Multiple Glazing Type',\n",
       " 'Photovoltaic Supply',\n",
       " 'Solar Water Heating',\n",
       " 'Built Form',\n",
       " 'Property Type',\n",
       " 'Transaction Type',\n",
       " 'Main Heating 1 Control']"
      ]
     },
     "execution_count": 26,
     "metadata": {},
     "output_type": "execute_result"
    }
   ],
   "source": [
    "var_list_cat"
   ]
  },
  {
   "cell_type": "markdown",
   "metadata": {},
   "source": [
    "### Current energy efficiency rating band"
   ]
  },
  {
   "cell_type": "code",
   "execution_count": 27,
   "metadata": {},
   "outputs": [
    {
     "data": {
      "text/plain": [
       "array(['C', 'B', 'E', 'D', 'F', 'G', 'A'], dtype=object)"
      ]
     },
     "execution_count": 27,
     "metadata": {},
     "output_type": "execute_result"
    }
   ],
   "source": [
    "epc['Current energy efficiency rating band'].unique()"
   ]
  },
  {
   "cell_type": "code",
   "execution_count": 28,
   "metadata": {},
   "outputs": [
    {
     "data": {
      "image/png": "[encoded data removed]",
      "text/plain": [
       "<Figure size 432x288 with 1 Axes>"
      ]
     },
     "metadata": {
      "needs_background": "light"
     },
     "output_type": "display_data"
    }
   ],
   "source": [
    "ax = sns.barplot(x=\"Current energy efficiency rating band\", y=\"count\", \n",
    "                 data=epc[['Property_UPRN','Current energy efficiency rating band']].groupby(['Current energy efficiency rating band']).count().reset_index().rename(columns = {\"Property_UPRN\":'count'}))"
   ]
  },
  {
   "cell_type": "markdown",
   "metadata": {},
   "source": [
    "## var_list_cat"
   ]
  },
  {
   "cell_type": "code",
   "execution_count": 29,
   "metadata": {},
   "outputs": [],
   "source": [
    "descriptive_columns = ['FLOOR_DESCRIPTION','LIGHTING_DESCRIPTION','ROOF_DESCRIPTION','WALL_DESCRIPTION',\n",
    "                       'WINDOWS_DESCRIPTION','HOTWATER_DESCRIPTION','MAINHEATCONT_DESCRIPTION','MAINHEAT_DESCRIPTION']\n",
    "\n",
    "for col in descriptive_columns:\n",
    "    epc[col] = epc[col].str.replace(r\"\\|(.*)\",\"\")"
   ]
  },
  {
   "cell_type": "code",
   "execution_count": 30,
   "metadata": {},
   "outputs": [],
   "source": [
    "def thermal_cleanup(df):\n",
    "    \n",
    "    ''' \n",
    "    standardising the wording in the variables containing average thermal transmittance. Specifically, \n",
    "    removing bi-lingual versions, removing =, translating welsh version, and standardising units\n",
    "    Parameters\n",
    "      df: a dataframe containing variables called 'FLOOR_DESCRIPTION','WALLS_DESCRIPTION','ROOF_DESCRIPTION'\n",
    "    Returns a dataframe \n",
    "    '''\n",
    "    \n",
    "    for c in ['FLOOR_DESCRIPTION','WALL_DESCRIPTION','ROOF_DESCRIPTION']:\n",
    "        df[c] = df[c].str.replace('  ',' ')\n",
    "        df[c] = df[c].str.replace('Average thermal transmittance 1 ','Average thermal transmittance 1.00 ')\n",
    "        df[c] = df[c].str.replace('Average thermal transmittance =','Average thermal transmittance')\n",
    "        df[c] = df[c].str.replace('Trawsyriannedd thermol cyfartalog','Average thermal transmittance')\n",
    "        # standardising the unit used\n",
    "        df[c] = df[c].str.replace(r\"W(.*?)K\",'W/m²K')\n",
    "        \n",
    "    return df"
   ]
  },
  {
   "cell_type": "code",
   "execution_count": 31,
   "metadata": {},
   "outputs": [],
   "source": [
    "epc = thermal_cleanup(epc)"
   ]
  },
  {
   "cell_type": "markdown",
   "metadata": {},
   "source": [
    "### WALL_DESCRIPTION"
   ]
  },
  {
   "cell_type": "code",
   "execution_count": 32,
   "metadata": {},
   "outputs": [
    {
     "data": {
      "text/plain": [
       "126"
      ]
     },
     "execution_count": 32,
     "metadata": {},
     "output_type": "execute_result"
    }
   ],
   "source": [
    "len(set(epc['WALL_DESCRIPTION']))"
   ]
  },
  {
   "cell_type": "code",
   "execution_count": 33,
   "metadata": {
    "scrolled": true
   },
   "outputs": [
    {
     "data": {
      "text/plain": [
       "array(['Cavity wall, as built, partial insulation (assumed) ',\n",
       "       'Cavity wall, with external insulation ',\n",
       "       'Sandstone or limestone, as built, no insulation (assumed) ',\n",
       "       'Cavity wall, with external insulation',\n",
       "       'System built, with external insulation',\n",
       "       'System built, as built, no insulation (assumed) ',\n",
       "       'System built, as built, partial insulation (assumed) ',\n",
       "       'Cavity wall, as built, no insulation (assumed) ',\n",
       "       'Sandstone, as built, no insulation (assumed)',\n",
       "       'Cavity wall, filled cavity ',\n",
       "       'Cavity wall, as built, insulated (assumed) ',\n",
       "       'Sandstone, as built, no insulation (assumed) ',\n",
       "       'Cavity wall, as built, no insulation (assumed)',\n",
       "       'System built, with external insulation ',\n",
       "       'Cavity wall, filled cavity and external insulation ',\n",
       "       'Average thermal transmittance 0.23 W/m²K ',\n",
       "       'System built, as built, insulated (assumed)',\n",
       "       'System built, as built, insulated (assumed) ',\n",
       "       'Timber frame, as built, insulated (assumed) ',\n",
       "       'Cavity wall, with internal insulation ',\n",
       "       'Cavity wall, filled cavity',\n",
       "       'Cavity wall, as built, partial insulation (assumed)',\n",
       "       'Sandstone or limestone, with internal insulation ',\n",
       "       'Sandstone or limestone, as built, insulated (assumed) ',\n",
       "       'Cavity wall, as built, insulated (assumed)',\n",
       "       'Solid brick, as built, insulated (assumed) ',\n",
       "       'Timber frame, as built, insulated (assumed)',\n",
       "       'System built, with internal insulation',\n",
       "       'Solid brick, as built, no insulation (assumed) ',\n",
       "       'Timber frame, as built, no insulation (assumed) ',\n",
       "       'Sandstone, with internal insulation',\n",
       "       'Solid brick, as built, no insulation (assumed)',\n",
       "       'Average thermal transmittance 0.18 W/m²K ',\n",
       "       'Average thermal transmittance 0.17 W/m²K ',\n",
       "       'Granite or whinstone, as built, no insulation (assumed)',\n",
       "       'Cavity wall, with internal insulation',\n",
       "       'Granite or whinstone, as built, no insulation (assumed) ',\n",
       "       'Sandstone or limestone, as built, partial insulation (assumed) ',\n",
       "       'Cavity wall, filled cavity and external insulation',\n",
       "       'Solid brick, as built, insulated (assumed)',\n",
       "       'Solid brick, with external insulation',\n",
       "       'System built, as built, no insulation (assumed)',\n",
       "       'Average thermal transmittance 0.21 W/m²K ',\n",
       "       'Average thermal transmittance 0.22 W/m²K ',\n",
       "       'Average thermal transmittance 0.19 W/m²K ',\n",
       "       'Average thermal transmittance 0.15 W/m²K ',\n",
       "       'Average thermal transmittance 0.16 W/m²K ',\n",
       "       'Average thermal transmittance 0.14 W/m²K ',\n",
       "       'Average thermal transmittance 0.26 W/m²K ',\n",
       "       'Average thermal transmittance 0.20 W/m²K ',\n",
       "       'Sandstone, as built, insulated (assumed) ',\n",
       "       'Sandstone, with external insulation ',\n",
       "       'Sandstone, as built, partial insulation (assumed)',\n",
       "       'Average thermal transmittance 0.13 W/m²K ',\n",
       "       'Sandstone, with external insulation',\n",
       "       'Sandstone or limestone, with external insulation ',\n",
       "       'Solid brick, as built, partial insulation (assumed) ',\n",
       "       'Solid brick, as built, partial insulation (assumed)',\n",
       "       'Average thermal transmittance 0.15 W/m²K',\n",
       "       'Sandstone, as built, insulated (assumed)',\n",
       "       'Timber frame, as built, partial insulation (assumed) ',\n",
       "       'Sandstone, as built, partial insulation (assumed) ',\n",
       "       'Average thermal transmittance 0.25 W/m²K ',\n",
       "       'Solid brick, with external insulation ',\n",
       "       'Granite or whinstone, with external insulation ',\n",
       "       'Granite or whinstone, as built, insulated (assumed) ',\n",
       "       'Solid brick, with internal insulation ',\n",
       "       'Timber frame, as built, no insulation (assumed)',\n",
       "       'Sandstone, with internal insulation ', 'Cob, as built ',\n",
       "       'Cavity wall, filled cavity and internal insulation ',\n",
       "       'System built, with internal insulation ',\n",
       "       'Granite or whinstone, with internal insulation',\n",
       "       'Timber frame, with additional insulation ',\n",
       "       'System built, as built, partial insulation (assumed)',\n",
       "       'Timber frame, as built, partial insulation (assumed)',\n",
       "       'Cavity wall, ', 'Solid brick, with internal insulation',\n",
       "       'Cavity wall, filled cavity and internal insulation',\n",
       "       'Granite or whinstone, with internal insulation ',\n",
       "       'Average thermal transmittance 0.21 W/m²K',\n",
       "       'Solid brick, filled cavity ',\n",
       "       'Average thermal transmittance 0.41 W/m²K ',\n",
       "       'Average thermal transmittance 0.43 W/m²K ',\n",
       "       'Average thermal transmittance 0.42 W/m²K ',\n",
       "       'Average thermal transmittance 0.22 W/m²K',\n",
       "       'Park home wall, as built ',\n",
       "       'Average thermal transmittance 0.24 W/m²K ',\n",
       "       'Average thermal transmittance 0.27 W/m²K ',\n",
       "       'Solid brick, filled cavity',\n",
       "       'Average thermal transmittance 0.99 W/m²K ',\n",
       "       'Average thermal transmittance 0.87 W/m²K ',\n",
       "       'Average thermal transmittance 0.91 W/m²K ',\n",
       "       'Granite or whinstone, with external insulation', 'Solid brick',\n",
       "       'Average thermal transmittance 0.19 W/m²K',\n",
       "       'Average thermal transmittance 0.20 W/m²K',\n",
       "       'Average thermal transmittance 0.14 W/m²K',\n",
       "       'Timber frame, with additional insulation', 'Solid brick ',\n",
       "       'Average thermal transmittance 0.39 W/m²K ',\n",
       "       'Average thermal transmittance 0.38 W/m²K ',\n",
       "       'Average thermal transmittance 0.32 W/m²K ',\n",
       "       'Average thermal transmittance 0.34 W/m²K ',\n",
       "       'Average thermal transmittance 0.37 W/m²K ',\n",
       "       'Average thermal transmittance 0.49 W/m²K ',\n",
       "       'Average thermal transmittance 0.45 W/m²K ',\n",
       "       'Average thermal transmittance 0.36 W/m²K ',\n",
       "       'Average thermal transmittance 0.35 W/m²K ',\n",
       "       'Average thermal transmittance 0.40 W/m²K ',\n",
       "       'Granite or whinstone, as built, partial insulation (assumed) ',\n",
       "       'Average thermal transmittance 0.24 W/m²K',\n",
       "       'Average thermal transmittance 0.25 W/m²K',\n",
       "       'Average thermal transmittance 0.23 W/m²K',\n",
       "       'Granite or whinstone, as built, insulated (assumed)',\n",
       "       'Average thermal transmittance 0.30 W/m²K ',\n",
       "       'Average thermal transmittance 0.11 W/m²K ',\n",
       "       'Average thermal transmittance 0.18 W/m²K', 'Sandstone, ',\n",
       "       'Cob, as built', 'Average thermal transmittance 0.17 W/m²K',\n",
       "       'Cob, with external insulation', 'Cob, with external insulation ',\n",
       "       'Average thermal transmittance 0.12 W/m²K ',\n",
       "       'Average thermal transmittance 1.00 W/m²K ',\n",
       "       'Average thermal transmittance 0.07 W/m²K '], dtype=object)"
      ]
     },
     "execution_count": 33,
     "metadata": {},
     "output_type": "execute_result"
    }
   ],
   "source": [
    "epc['WALL_DESCRIPTION'].unique()"
   ]
  },
  {
   "cell_type": "code",
   "execution_count": 34,
   "metadata": {},
   "outputs": [],
   "source": [
    "def walls_cleanup(df): \n",
    "    \n",
    "    ''' \n",
    "    cleans-up the WALLS_DESCRIPTION feature from the EPC dataset\n",
    "    Parameters\n",
    "      df: a dataframe containing a variable called 'WALLS_DESCRIPTION'\n",
    "    Returns a dataframe \n",
    "    '''\n",
    "    \n",
    "    # removing phrases like as built which aren't adding anything\n",
    "    df['WALL_DESCRIPTION'] = df['WALL_DESCRIPTION'].str.lower()\n",
    "    df['WALL_DESCRIPTION'] = df['WALL_DESCRIPTION'].str.replace(r\"fel y(.*?)u hadeiladwyd, \",\"\")\n",
    "    df['WALL_DESCRIPTION'] = df['WALL_DESCRIPTION'].str.replace(\", as built\",\"\")\n",
    "    # df['WALL_DESCRIPTION'] = df['WALL_DESCRIPTION'].str.replace(\"cavity\\.\",\"cavity wall,\")\n",
    "    # df['WALL_DESCRIPTION'] = df['WALL_DESCRIPTION'].str.replace(\"\\(rhagdybiaeth\\)\",\"(assumed)\")\n",
    "    df['WALL_DESCRIPTION'] = df['WALL_DESCRIPTION'].str.replace(\" (assumed)\",\"\")\n",
    "    # standardising punctuation\n",
    "    # df['WALL_DESCRIPTION'] = df['WALL_DESCRIPTION'].str.replace(\"solid brick\\.\",\"solid brick,\")\n",
    "    # standardising language\n",
    "    # df['WALL_DESCRIPTION'] = df['WALL_DESCRIPTION'].str.replace(\"granite or whin,\",\"granite or whinstone,\")\n",
    "    # df['WALL_DESCRIPTION'] = df['WALL_DESCRIPTION'].str.replace(\"stone \\(granite or whin\\)\\.\",\"granite or whinstone,\")\n",
    "    df['WALL_DESCRIPTION'] = df['WALL_DESCRIPTION'].str.replace(\"with external insulation\",\"insulated\")\n",
    "    df['WALL_DESCRIPTION'] = df['WALL_DESCRIPTION'].str.replace(\"with internal insulation\",\"insulated\")\n",
    "    df['WALL_DESCRIPTION'] = df['WALL_DESCRIPTION'].str.replace(\"with additional insulation\",\"insulated\")\n",
    "    df['WALL_DESCRIPTION'] = df['WALL_DESCRIPTION'].str.replace(\"with insulation\",\"insulated\")\n",
    "    # clean up\n",
    "    df['WALL_DESCRIPTION'] = df['WALL_DESCRIPTION'].str.replace(r'\\.$','')\n",
    "    df['WALL_DESCRIPTION'] = df['WALL_DESCRIPTION'].str.replace('\\+ chr\\(13\\) \\+','+')\n",
    "    df['WALL_DESCRIPTION'] = df['WALL_DESCRIPTION'].str.replace(\"  \\+\",\" +\")\n",
    "    df['WALL_DESCRIPTION'] = df['WALL_DESCRIPTION'].str.replace(\"[ \\t]+$\",\"\")\n",
    "    df['WALL_DESCRIPTION'] = df['WALL_DESCRIPTION'].str.replace('timber frame\\.','timber frame,')\n",
    "    df['WALL_DESCRIPTION'] = df['WALL_DESCRIPTION'].str.replace('\\?','')\n",
    "    df['WALL_DESCRIPTION'] = df['WALL_DESCRIPTION'].str.replace('system built\\.','system built,')\n",
    "    \n",
    "    return df"
   ]
  },
  {
   "cell_type": "code",
   "execution_count": 35,
   "metadata": {},
   "outputs": [
    {
     "data": {
      "text/plain": [
       "74"
      ]
     },
     "execution_count": 35,
     "metadata": {},
     "output_type": "execute_result"
    }
   ],
   "source": [
    "epc = walls_cleanup(epc)\n",
    "len(set(epc['WALL_DESCRIPTION']))"
   ]
  },
  {
   "cell_type": "code",
   "execution_count": 36,
   "metadata": {},
   "outputs": [],
   "source": [
    "def thermal_walls(df):\n",
    "    \n",
    "    ''' \n",
    "    rounds the average thermal transmittance figure which is within a str field\n",
    "    Parameters\n",
    "      df: a dataframe containing a variable called 'WALL_DESCRIPTION'\n",
    "    Returns a dataframe \n",
    "    '''\n",
    "    \n",
    "    df['walls_average_thermal_transmittance'] = df['WALL_DESCRIPTION'].str.findall(r'\\d.\\d\\d')\n",
    "    df['walls_average_thermal_transmittance'] = round(df['walls_average_thermal_transmittance'].str[0].astype(float),1)\n",
    "    df['WALL_DESCRIPTION'] = df.apply(lambda row: 'average thermal transmittance %.1f w/m²k' % (row['walls_average_thermal_transmittance']) if 'average' in str(row['WALL_DESCRIPTION']) else row['WALL_DESCRIPTION'],axis=1)\n",
    "    \n",
    "    return df"
   ]
  },
  {
   "cell_type": "code",
   "execution_count": 37,
   "metadata": {},
   "outputs": [
    {
     "data": {
      "text/plain": [
       "45"
      ]
     },
     "execution_count": 37,
     "metadata": {},
     "output_type": "execute_result"
    }
   ],
   "source": [
    "epc = thermal_walls(epc)\n",
    "len(set(epc['WALL_DESCRIPTION']))"
   ]
  },
  {
   "cell_type": "code",
   "execution_count": 38,
   "metadata": {},
   "outputs": [
    {
     "data": {
      "text/plain": [
       "array(['cavity wall, partial insulation (assumed)',\n",
       "       'cavity wall, insulated',\n",
       "       'sandstone or limestone, no insulation (assumed)',\n",
       "       'system built, insulated', 'system built, no insulation (assumed)',\n",
       "       'system built, partial insulation (assumed)',\n",
       "       'cavity wall, no insulation (assumed)',\n",
       "       'sandstone, no insulation (assumed)', 'cavity wall, filled cavity',\n",
       "       'cavity wall, insulated (assumed)',\n",
       "       'cavity wall, filled cavity and external insulation',\n",
       "       'average thermal transmittance 0.2 w/m²k',\n",
       "       'system built, insulated (assumed)',\n",
       "       'timber frame, insulated (assumed)',\n",
       "       'sandstone or limestone, insulated',\n",
       "       'sandstone or limestone, insulated (assumed)',\n",
       "       'solid brick, insulated (assumed)',\n",
       "       'solid brick, no insulation (assumed)',\n",
       "       'timber frame, no insulation (assumed)', 'sandstone, insulated',\n",
       "       'granite or whinstone, no insulation (assumed)',\n",
       "       'sandstone or limestone, partial insulation (assumed)',\n",
       "       'solid brick, insulated',\n",
       "       'average thermal transmittance 0.1 w/m²k',\n",
       "       'average thermal transmittance 0.3 w/m²k',\n",
       "       'sandstone, insulated (assumed)',\n",
       "       'sandstone, partial insulation (assumed)',\n",
       "       'solid brick, partial insulation (assumed)',\n",
       "       'timber frame, partial insulation (assumed)',\n",
       "       'granite or whinstone, insulated',\n",
       "       'granite or whinstone, insulated (assumed)', 'cob',\n",
       "       'cavity wall, filled cavity and internal insulation',\n",
       "       'timber frame, insulated', 'cavity wall,',\n",
       "       'solid brick, filled cavity',\n",
       "       'average thermal transmittance 0.4 w/m²k', 'park home wall',\n",
       "       'average thermal transmittance 1.0 w/m²k',\n",
       "       'average thermal transmittance 0.9 w/m²k', 'solid brick',\n",
       "       'average thermal transmittance 0.5 w/m²k',\n",
       "       'granite or whinstone, partial insulation (assumed)', 'sandstone,',\n",
       "       'cob, insulated'], dtype=object)"
      ]
     },
     "execution_count": 38,
     "metadata": {},
     "output_type": "execute_result"
    }
   ],
   "source": [
    "epc['WALL_DESCRIPTION'].unique()"
   ]
  },
  {
   "cell_type": "markdown",
   "metadata": {},
   "source": [
    "### ROOF_DESCRIPTION"
   ]
  },
  {
   "cell_type": "code",
   "execution_count": 40,
   "metadata": {},
   "outputs": [
    {
     "data": {
      "text/plain": [
       "121"
      ]
     },
     "execution_count": 40,
     "metadata": {},
     "output_type": "execute_result"
    }
   ],
   "source": [
    "len(epc['ROOF_DESCRIPTION'].unique())"
   ]
  },
  {
   "cell_type": "code",
   "execution_count": 41,
   "metadata": {},
   "outputs": [
    {
     "data": {
      "text/plain": [
       "array(['Pitched, 300 mm loft insulation ', '(another dwelling above) ',\n",
       "       'Pitched, 250 mm loft insulation',\n",
       "       'Pitched, 100 mm loft insulation ',\n",
       "       'Pitched, 150 mm loft insulation ', '(another dwelling above)',\n",
       "       'Flat, limited insulation (assumed)',\n",
       "       'Pitched, 100 mm loft insulation', 'Pitched, no insulation ',\n",
       "       'Pitched, insulated (assumed) ', 'Flat, no insulation (assumed)',\n",
       "       'Pitched, no insulation (assumed)',\n",
       "       'Pitched, 270 mm loft insulation ',\n",
       "       'Pitched, 400 mm loft insulation ',\n",
       "       'Pitched, 250 mm loft insulation ',\n",
       "       'Pitched, 75 mm loft insulation ',\n",
       "       'Pitched, no insulation (assumed) ',\n",
       "       'Pitched, 200 mm loft insulation ',\n",
       "       'Pitched, 12 mm loft insulation ', '(other premises above) ',\n",
       "       'Average thermal transmittance 0.12 W/m²K ',\n",
       "       'Pitched, no insulation', 'Pitched, 50 mm loft insulation ',\n",
       "       'Flat, insulated (assumed) ',\n",
       "       'Pitched, limited insulation (assumed)',\n",
       "       'Flat, no insulation (assumed) ', 'Pitched, insulated (assumed)',\n",
       "       'Pitched, 300+ mm loft insulation ',\n",
       "       'Pitched, 200 mm loft insulation',\n",
       "       'Pitched, 400+ mm loft insulation ', 'Flat, insulated (assumed)',\n",
       "       'Pitched, 300+ mm loft insulation',\n",
       "       'Pitched, 12 mm loft insulation',\n",
       "       'Average thermal transmittance 0.08 W/m²K ',\n",
       "       'Average thermal transmittance 0.10 W/m²K ', 'Flat, insulated ',\n",
       "       'Pitched, limited insulation (assumed) ',\n",
       "       'Roof room(s), insulated (assumed) ',\n",
       "       'Pitched, 150 mm loft insulation',\n",
       "       'Average thermal transmittance 0.15 W/m²K ',\n",
       "       'Pitched, 25 mm loft insulation', 'Pitched, 50 mm loft insulation',\n",
       "       'Average thermal transmittance 0.14 W/m²K ',\n",
       "       'Pitched, 350 mm loft insulation ',\n",
       "       'Roof room(s), ceiling insulated ',\n",
       "       'Average thermal transmittance 0.06 W/m²K ',\n",
       "       'Average thermal transmittance 0.13 W/m²K ',\n",
       "       'Pitched, insulated at rafters ',\n",
       "       'Pitched, 100mm loft insulation ',\n",
       "       'Average thermal transmittance 0.18 W/m²K ',\n",
       "       'Average thermal transmittance 0.11 W/m²K ',\n",
       "       'Average thermal transmittance 0.09 W/m²K ',\n",
       "       'Average thermal transmittance 0.17 W/m²K ',\n",
       "       'Roof room(s), limited insulation (assumed) ',\n",
       "       'Roof room(s), no insulation (assumed) ',\n",
       "       'Pitched, 25 mm loft insulation ', '(other premises above)',\n",
       "       'Average thermal transmittance 0.12 W/m²K',\n",
       "       'Flat, limited insulation (assumed) ', 'Flat, limited insulation',\n",
       "       'Pitched, 75 mm loft insulation', 'Pitched, insulated at rafters',\n",
       "       'Flat, insulated', 'Average thermal transmittance 0.16 W/m²K ',\n",
       "       'Pitched, 0 mm loft insulation ', 'Pitched, 200mm loft insulation',\n",
       "       'Pitched, 50mm loft insulation ',\n",
       "       'Average thermal transmittance 0.20 W/m²K ',\n",
       "       'Roof room(s), no insulation (assumed)',\n",
       "       'Pitched, 150mm loft insulation', 'Flat, limited insulation ',\n",
       "       'Pitched, 50mm loft insulation', 'Pitched, insulated ',\n",
       "       'Pitched, 100mm loft insulation', 'Pitched, 75mm loft insulation',\n",
       "       'Roof room(s), limited insulation (assumed)',\n",
       "       'Roof room(s), insulated ', 'Pitched, loft insulation ',\n",
       "       'Average thermal transmittance 0.16 W/m²K', 'Flat, no insulation',\n",
       "       'Pitched, limited insulation ', 'Pitched, 25mm loft insulation',\n",
       "       'Pitched, 12mm loft insulation',\n",
       "       'Average thermal transmittance 0.13 W/m²K',\n",
       "       'Roof room(s), insulated (assumed)', 'Pitched ',\n",
       "       'Pitched, insulated', 'Roof room(s), insulated',\n",
       "       'Average thermal transmittance 0.19 W/m²K ',\n",
       "       'Roof room(s), no insulation',\n",
       "       'Average thermal transmittance 0.15 W/m²K',\n",
       "       'Average thermal transmittance 0.01 W/m²K ', 'Pitched',\n",
       "       'Average thermal transmittance 0.14 W/m²K',\n",
       "       'Average thermal transmittance 0.07 W/m²K ', 'Thatched',\n",
       "       'Pitched, 200mm loft insulation ', 'Pitched, 0 mm loft insulation',\n",
       "       'Pitched, loft insulation', 'Roof room(s), ceiling insulated',\n",
       "       'Average thermal transmittance 0.1 W/m²K ',\n",
       "       'Average thermal transmittance 0.27 W/m²K ',\n",
       "       'Flat, no insulation ',\n",
       "       'Average thermal transmittance 0.42 W/m²K ',\n",
       "       'Pitched, 250mm loft insulation',\n",
       "       'Average thermal transmittance 0.10 W/m²K',\n",
       "       'Average thermal transmittance 0.18 W/m²K',\n",
       "       'Average thermal transmittance 0.05 W/m²K',\n",
       "       'Average thermal transmittance 0.04 W/m²K',\n",
       "       'Pitched, limited insulation',\n",
       "       'Average thermal transmittance 0.06 W/m²K',\n",
       "       'Average thermal transmittance 0.03 W/m²K',\n",
       "       'Average thermal transmittance 0.07 W/m²K',\n",
       "       'Pitched, 150mm loft insulation ',\n",
       "       'Average thermal transmittance 0.08 W/m²K',\n",
       "       'Average thermal transmittance 0.11 W/m²K',\n",
       "       'Pitched, 250mm loft insulation ',\n",
       "       'Pitched, 75mm loft insulation ',\n",
       "       'Roof room(s), limited insulation',\n",
       "       'Pitched, 25mm loft insulation ',\n",
       "       'Thatched, with additional insulation '], dtype=object)"
      ]
     },
     "execution_count": 41,
     "metadata": {},
     "output_type": "execute_result"
    }
   ],
   "source": [
    "epc['ROOF_DESCRIPTION'].unique()"
   ]
  },
  {
   "cell_type": "code",
   "execution_count": 42,
   "metadata": {},
   "outputs": [],
   "source": [
    "def roof_cleanup(df):\n",
    "    \n",
    "    ''' \n",
    "    cleans-up the ROOF_DESCRIPTION feature from the EPC dataset\n",
    "    Parameters\n",
    "      df: a dataframe containing a variable called 'ROOF_DESCRIPTION'\n",
    "    Returns a dataframe \n",
    "    '''\n",
    "    \n",
    "    # standardising units\n",
    "    # df['ROOF_DESCRIPTION'] = df['ROOF_DESCRIPTION'].str.replace(\" mm\",'mm')\n",
    "    # df['ROOF_DESCRIPTION'] = df['ROOF_DESCRIPTION'].str.replace(\">= 300mm\",\">=300mm\")\n",
    "    # df['ROOF_DESCRIPTION'] = df['ROOF_DESCRIPTION'].str.replace(\">=300mm\",\"300+mm\")\n",
    "    \n",
    "    # standardising descriptions\n",
    "    df['ROOF_DESCRIPTION'] = df['ROOF_DESCRIPTION'].str.replace(\"Roof room,\",\"Roof room(s),\")\n",
    "    df['ROOF_DESCRIPTION'] = df['ROOF_DESCRIPTION'].str.replace(\"annedd arall uwchben\",\"other premises above\")\n",
    "    df['ROOF_DESCRIPTION'] = df['ROOF_DESCRIPTION'].str.replace(\"another dwelling above\",\"other premises above\")\n",
    "    df['ROOF_DESCRIPTION'] = df['ROOF_DESCRIPTION'].str.replace(\"Dwelling Above\",\"(other premises above)\")\n",
    "    df['ROOF_DESCRIPTION'] = df['ROOF_DESCRIPTION'].str.replace(r\"0 W/m²K\",r\" W/m²K\")\n",
    "    df['ROOF_DESCRIPTION'] = df['ROOF_DESCRIPTION'].str.replace(\"  W/m²K\",\" 0.0 W/m²K\")\n",
    "    df['ROOF_DESCRIPTION'] = df['ROOF_DESCRIPTION'].str.replace(\"Roof room\\(s\\), no insulation\\(assumed\\)\",\"Roof room(s), no insulation (assumed)\")\n",
    "    df['ROOF_DESCRIPTION'] = df['ROOF_DESCRIPTION'].str.replace(\"Other premises above\",\"(other premises above)\")\n",
    "    df['ROOF_DESCRIPTION'] = df['ROOF_DESCRIPTION'].str.replace(\"\\(assumed\\)\",\"\")\n",
    "    # cleanup\n",
    "    df['ROOF_DESCRIPTION'] = df['ROOF_DESCRIPTION'].str.replace(r'\\.$','')\n",
    "    df['ROOF_DESCRIPTION'] = df['ROOF_DESCRIPTION'].str.replace('0m','0 m')\n",
    "    df['ROOF_DESCRIPTION'] = df['ROOF_DESCRIPTION'].str.replace('5m','5 m')\n",
    "    df['ROOF_DESCRIPTION'] = df['ROOF_DESCRIPTION'].str.replace('2m','2 m')\n",
    "    df['ROOF_DESCRIPTION'] = df['ROOF_DESCRIPTION'].str.replace(\"  \",\" \")\n",
    "    df['ROOF_DESCRIPTION'] = df['ROOF_DESCRIPTION'].str.replace(r'\\,$','')\n",
    "    df['ROOF_DESCRIPTION'] = df['ROOF_DESCRIPTION'].str.replace(\"  \\+\",\" +\")\n",
    "    df['ROOF_DESCRIPTION'] = df['ROOF_DESCRIPTION'].str.replace(\"[ \\t]+$\",\"\")\n",
    "    df['ROOF_DESCRIPTION'] = df['ROOF_DESCRIPTION'].str.replace(\"mmmm\",\"mm\")\n",
    "    df['ROOF_DESCRIPTION'] = df['ROOF_DESCRIPTION'].str.replace(\"Thatchedinsulated\",\"Thatched, insulated\")\n",
    "    df['ROOF_DESCRIPTION'] = df['ROOF_DESCRIPTION'].str.replace(\"\\*\\*\\* INVALID INPUT Code \\: 57 \\*\\*\\*\",\"\")\n",
    "    \n",
    "    return df"
   ]
  },
  {
   "cell_type": "code",
   "execution_count": 43,
   "metadata": {},
   "outputs": [
    {
     "data": {
      "text/plain": [
       "52"
      ]
     },
     "execution_count": 43,
     "metadata": {},
     "output_type": "execute_result"
    }
   ],
   "source": [
    "epc = roof_cleanup(epc)\n",
    "len(set(epc['ROOF_DESCRIPTION']))"
   ]
  },
  {
   "cell_type": "code",
   "execution_count": 44,
   "metadata": {},
   "outputs": [],
   "source": [
    "def thermal_roof(df):\n",
    "    \n",
    "    ''' \n",
    "    rounds the average thermal transmittance figure which is within a str field\n",
    "    Parameters\n",
    "      df: a dataframe containing a variable called 'ROOF_DESCRIPTION'\n",
    "    Returns a dataframe \n",
    "    '''\n",
    "    \n",
    "    df['roof_average_thermal_transmittance'] = df['ROOF_DESCRIPTION'].str.findall(r'(\\d.\\d*) W/m²K')\n",
    "    df['roof_average_thermal_transmittance'] = round(df['roof_average_thermal_transmittance'].str[0].astype(float),1)\n",
    "    df['ROOF_DESCRIPTION'] = df.apply(lambda row: 'average thermal transmittance %.1f W/m²k' % (row['roof_average_thermal_transmittance']) if 'Average' in str(row['ROOF_DESCRIPTION']) else row['ROOF_DESCRIPTION'],axis=1)\n",
    "    \n",
    "    return df"
   ]
  },
  {
   "cell_type": "code",
   "execution_count": 45,
   "metadata": {},
   "outputs": [
    {
     "data": {
      "text/plain": [
       "36"
      ]
     },
     "execution_count": 45,
     "metadata": {},
     "output_type": "execute_result"
    }
   ],
   "source": [
    "epc = thermal_roof(epc)\n",
    "len(set(epc['ROOF_DESCRIPTION']))"
   ]
  },
  {
   "cell_type": "code",
   "execution_count": 46,
   "metadata": {},
   "outputs": [
    {
     "data": {
      "text/plain": [
       "array(['Pitched, 300 mm loft insulation', '(other premises above)',\n",
       "       'Pitched, 250 mm loft insulation',\n",
       "       'Pitched, 100 mm loft insulation',\n",
       "       'Pitched, 150 mm loft insulation', 'Flat, limited insulation',\n",
       "       'Pitched, no insulation', 'Pitched, insulated',\n",
       "       'Flat, no insulation', 'Pitched, 270 mm loft insulation',\n",
       "       'Pitched, 400 mm loft insulation',\n",
       "       'Pitched, 75 mm loft insulation',\n",
       "       'Pitched, 200 mm loft insulation',\n",
       "       'Pitched, 12 mm loft insulation',\n",
       "       'average thermal transmittance 0.1 W/m²k',\n",
       "       'Pitched, 50 mm loft insulation', 'Flat, insulated',\n",
       "       'Pitched, limited insulation', 'Pitched, 300+ mm loft insulation',\n",
       "       'Pitched, 400+ mm loft insulation', 'Roof room(s), insulated',\n",
       "       'average thermal transmittance 0.2 W/m²k',\n",
       "       'Pitched, 25 mm loft insulation',\n",
       "       'Pitched, 350 mm loft insulation',\n",
       "       'Roof room(s), ceiling insulated', 'Pitched, insulated at rafters',\n",
       "       'Roof room(s), limited insulation', 'Roof room(s), no insulation',\n",
       "       'Pitched, 0 mm loft insulation', 'Pitched, loft insulation',\n",
       "       'Pitched', 'average thermal transmittance 0.0 W/m²k', 'Thatched',\n",
       "       'average thermal transmittance 0.3 W/m²k',\n",
       "       'average thermal transmittance 0.4 W/m²k',\n",
       "       'Thatched, with additional insulation'], dtype=object)"
      ]
     },
     "execution_count": 46,
     "metadata": {},
     "output_type": "execute_result"
    }
   ],
   "source": [
    "epc['ROOF_DESCRIPTION'].unique()"
   ]
  },
  {
   "cell_type": "code",
   "execution_count": 47,
   "metadata": {},
   "outputs": [
    {
     "data": {
      "text/plain": [
       "Counter({'Pitched, 300 mm loft insulation': 8751,\n",
       "         '(other premises above)': 85059,\n",
       "         'Pitched, 250 mm loft insulation': 9602,\n",
       "         'Pitched, 100 mm loft insulation': 6256,\n",
       "         'Pitched, 150 mm loft insulation': 5135,\n",
       "         'Flat, limited insulation': 1061,\n",
       "         'Pitched, no insulation': 14806,\n",
       "         'Pitched, insulated': 3092,\n",
       "         'Flat, no insulation': 559,\n",
       "         'Pitched, 270 mm loft insulation': 3717,\n",
       "         'Pitched, 400 mm loft insulation': 192,\n",
       "         'Pitched, 75 mm loft insulation': 900,\n",
       "         'Pitched, 200 mm loft insulation': 8330,\n",
       "         'Pitched, 12 mm loft insulation': 646,\n",
       "         'average thermal transmittance 0.1 W/m²k': 5524,\n",
       "         'Pitched, 50 mm loft insulation': 2027,\n",
       "         'Flat, insulated': 1569,\n",
       "         'Pitched, limited insulation': 1303,\n",
       "         'Pitched, 300+ mm loft insulation': 2409,\n",
       "         'Pitched, 400+ mm loft insulation': 553,\n",
       "         'Roof room(s), insulated': 173,\n",
       "         'average thermal transmittance 0.2 W/m²k': 1545,\n",
       "         'Pitched, 25 mm loft insulation': 557,\n",
       "         'Pitched, 350 mm loft insulation': 823,\n",
       "         'Roof room(s), ceiling insulated': 117,\n",
       "         'Pitched, insulated at rafters': 255,\n",
       "         'Roof room(s), limited insulation': 32,\n",
       "         'Roof room(s), no insulation': 261,\n",
       "         'Pitched, 0 mm loft insulation': 14,\n",
       "         'Pitched, loft insulation': 26,\n",
       "         'Pitched': 13,\n",
       "         'average thermal transmittance 0.0 W/m²k': 5,\n",
       "         'Thatched': 3,\n",
       "         'average thermal transmittance 0.3 W/m²k': 1,\n",
       "         'average thermal transmittance 0.4 W/m²k': 1,\n",
       "         'Thatched, with additional insulation': 1})"
      ]
     },
     "execution_count": 47,
     "metadata": {},
     "output_type": "execute_result"
    }
   ],
   "source": [
    "cnt = Counter(epc['ROOF_DESCRIPTION'])\n",
    "cnt"
   ]
  },
  {
   "cell_type": "markdown",
   "metadata": {},
   "source": [
    "### Floor_DESCRIPTION"
   ]
  },
  {
   "cell_type": "code",
   "execution_count": 48,
   "metadata": {},
   "outputs": [
    {
     "data": {
      "text/plain": [
       "70"
      ]
     },
     "execution_count": 48,
     "metadata": {},
     "output_type": "execute_result"
    }
   ],
   "source": [
    "len(set(epc['FLOOR_DESCRIPTION']))"
   ]
  },
  {
   "cell_type": "code",
   "execution_count": 49,
   "metadata": {},
   "outputs": [
    {
     "data": {
      "text/plain": [
       "array(['(another dwelling below) ', 'Suspended, insulated ',\n",
       "       '(other premises below)', 'Suspended, no insulation (assumed) ',\n",
       "       'Suspended, no insulation (assumed)', '(other premises below) ',\n",
       "       'Suspended, limited insulation (assumed) ',\n",
       "       'Suspended, insulated (assumed) ',\n",
       "       'Solid, no insulation (assumed) ',\n",
       "       'Average thermal transmittance 0.18 W/m²K ',\n",
       "       'To external air, insulated (assumed) ',\n",
       "       'Solid, insulated (assumed) ', 'Solid, insulated (assumed)',\n",
       "       'Solid, limited insulation (assumed) ',\n",
       "       'Solid, no insulation (assumed)', 'Suspended, insulated (assumed)',\n",
       "       'To unheated space, limited insulation (assumed) ',\n",
       "       'Suspended, limited insulation (assumed)',\n",
       "       'Average thermal transmittance 0.11 W/m²K ',\n",
       "       'Average thermal transmittance 0.10 W/m²K ',\n",
       "       'Average thermal transmittance 0.09 W/m²K ',\n",
       "       'Average thermal transmittance 0.08 W/m²K ',\n",
       "       'Average thermal transmittance 0.15 W/m²K ',\n",
       "       'To unheated space, limited insulation (assumed)',\n",
       "       'To unheated space, no insulation (assumed) ',\n",
       "       'Solid, limited insulation (assumed)',\n",
       "       'Average thermal transmittance 0.16 W/m²K ',\n",
       "       'Average thermal transmittance 0.17 W/m²K ',\n",
       "       'Average thermal transmittance 0.06 W/m²K ',\n",
       "       'Suspended, insulated',\n",
       "       'Average thermal transmittance 0.14 W/m²K ',\n",
       "       'To unheated space, insulated (assumed) ',\n",
       "       'To external air, no insulation (assumed) ',\n",
       "       'Average thermal transmittance 0.12 W/m²K ',\n",
       "       'To unheated space, insulated ',\n",
       "       'Average thermal transmittance 0.13 W/m²K ',\n",
       "       'Average thermal transmittance 0.07 W/m²K ',\n",
       "       'Average thermal transmittance 0.19 W/m²K ',\n",
       "       'Average thermal transmittance 0.25 W/m²K ',\n",
       "       'To unheated space, insulated (assumed)',\n",
       "       'To unheated space, no insulation (assumed)',\n",
       "       'Average thermal transmittance 0.12 W/m²K', 'Solid, insulated ',\n",
       "       'no insulation (assumed)',\n",
       "       'To external air, limited insulation (assumed) ',\n",
       "       'To external air, insulated (assumed)',\n",
       "       '(Same dwelling below) insulated (assumed)',\n",
       "       'To external air, limited insulation (assumed)',\n",
       "       'To external air, no insulation (assumed)',\n",
       "       'Average thermal transmittance 0.15 W/m²K',\n",
       "       'To external air, insulated ',\n",
       "       'Average thermal transmittance 0.16 W/m²K',\n",
       "       'Average thermal transmittance 0.21 W/m²K ',\n",
       "       'Average thermal transmittance 0.18 W/m²K',\n",
       "       'Average thermal transmittance 0.20 W/m²K ', 'Solid, insulated',\n",
       "       'Average thermal transmittance 0.05 W/m²K ',\n",
       "       'Average thermal transmittance 0.10 W/m²K',\n",
       "       'Average thermal transmittance 0.19 W/m²K',\n",
       "       'Average thermal transmittance 0.05 W/m²K',\n",
       "       'Average thermal transmittance 0.17 W/m²K',\n",
       "       'Average thermal transmittance 0.45 W/m²K ',\n",
       "       'Average thermal transmittance 0.13 W/m²K',\n",
       "       'To unheated space, insulated',\n",
       "       'Average thermal transmittance 0.11 W/m²K',\n",
       "       'Average thermal transmittance 0.09 W/m²K',\n",
       "       'Average thermal transmittance 0.20 W/m²K',\n",
       "       'Average thermal transmittance 0.14 W/m²K',\n",
       "       'Average thermal transmittance 0.48 W/m²K ',\n",
       "       'Average thermal transmittance 0.03 W/m²K '], dtype=object)"
      ]
     },
     "execution_count": 49,
     "metadata": {},
     "output_type": "execute_result"
    }
   ],
   "source": [
    "epc['FLOOR_DESCRIPTION'].unique()"
   ]
  },
  {
   "cell_type": "code",
   "execution_count": 50,
   "metadata": {},
   "outputs": [],
   "source": [
    "def thermal_floor(df):\n",
    "    \n",
    "    ''' \n",
    "    rounds the average thermal transmittance figure which is within a str field to 1 decimal place\n",
    "    Parameters\n",
    "      df: a dataframe containing a variable called 'FLOOR_DESCRIPTION'\n",
    "    Returns a dataframe \n",
    "    '''\n",
    "    \n",
    "    # finds the decimal number\n",
    "    df['floors_average_thermal_transmittance'] = df['FLOOR_DESCRIPTION'].str.findall(r'\\d.\\d*')\n",
    "    # rounds the number to 1 decimal place\n",
    "    df['floors_average_thermal_transmittance'] = round(df['floors_average_thermal_transmittance'].str[0].astype(float),1)\n",
    "    # \n",
    "    df['FLOOR_DESCRIPTION'] = df.apply(lambda row: 'average thermal transmittance %.1f W/m²K' % (row['floors_average_thermal_transmittance']) if 'Average' in str(row['FLOOR_DESCRIPTION']) else row['FLOOR_DESCRIPTION'],axis=1)\n",
    "    \n",
    "    return df"
   ]
  },
  {
   "cell_type": "code",
   "execution_count": 51,
   "metadata": {},
   "outputs": [
    {
     "data": {
      "text/plain": [
       "41"
      ]
     },
     "execution_count": 51,
     "metadata": {},
     "output_type": "execute_result"
    }
   ],
   "source": [
    "epc = thermal_floor(epc)\n",
    "len(set(epc['FLOOR_DESCRIPTION']))"
   ]
  },
  {
   "cell_type": "code",
   "execution_count": 52,
   "metadata": {},
   "outputs": [],
   "source": [
    "def floor_cleanup(df):\n",
    "    \n",
    "    ''' \n",
    "    cleans-up the FLOOR_DESCRIPTION feature from the EPC dataset\n",
    "    Parameters\n",
    "      df: a dataframe containing a variable called 'FLOOR_DESCRIPTION'\n",
    "    Returns a dataframe \n",
    "    ''' \n",
    "    # standardising descriptions\n",
    "    df['FLOOR_DESCRIPTION'] = df['FLOOR_DESCRIPTION'].str.replace(\" (assumed)\",\"\")\n",
    "    df['FLOOR_DESCRIPTION'] = df['FLOOR_DESCRIPTION'].str.replace(\"another dwelling below\",\"other premises below\")\n",
    "    df['FLOOR_DESCRIPTION'] = df['FLOOR_DESCRIPTION'].str.strip(\" \")\n",
    "    \n",
    "    return df"
   ]
  },
  {
   "cell_type": "code",
   "execution_count": 53,
   "metadata": {},
   "outputs": [
    {
     "data": {
      "text/plain": [
       "24"
      ]
     },
     "execution_count": 53,
     "metadata": {},
     "output_type": "execute_result"
    }
   ],
   "source": [
    "epc = floor_cleanup(epc)\n",
    "len(set(epc['FLOOR_DESCRIPTION']))"
   ]
  },
  {
   "cell_type": "code",
   "execution_count": 54,
   "metadata": {},
   "outputs": [
    {
     "data": {
      "text/plain": [
       "array(['(other premises below)', 'Suspended, insulated',\n",
       "       'Suspended, no insulation (assumed)',\n",
       "       'Suspended, limited insulation (assumed)',\n",
       "       'Suspended, insulated (assumed)', 'Solid, no insulation (assumed)',\n",
       "       'average thermal transmittance 0.2 W/m²K',\n",
       "       'To external air, insulated (assumed)',\n",
       "       'Solid, insulated (assumed)',\n",
       "       'Solid, limited insulation (assumed)',\n",
       "       'To unheated space, limited insulation (assumed)',\n",
       "       'average thermal transmittance 0.1 W/m²K',\n",
       "       'To unheated space, no insulation (assumed)',\n",
       "       'To unheated space, insulated (assumed)',\n",
       "       'To external air, no insulation (assumed)',\n",
       "       'To unheated space, insulated', 'Solid, insulated',\n",
       "       'no insulation (assumed)',\n",
       "       'To external air, limited insulation (assumed)',\n",
       "       '(Same dwelling below) insulated (assumed)',\n",
       "       'To external air, insulated',\n",
       "       'average thermal transmittance 0.0 W/m²K',\n",
       "       'average thermal transmittance 0.4 W/m²K',\n",
       "       'average thermal transmittance 0.5 W/m²K'], dtype=object)"
      ]
     },
     "execution_count": 54,
     "metadata": {},
     "output_type": "execute_result"
    }
   ],
   "source": [
    "epc['FLOOR_DESCRIPTION'].unique()"
   ]
  },
  {
   "cell_type": "markdown",
   "metadata": {},
   "source": [
    "### WINDOWS DESCRIPTION"
   ]
  },
  {
   "cell_type": "code",
   "execution_count": 56,
   "metadata": {},
   "outputs": [
    {
     "data": {
      "text/plain": [
       "36"
      ]
     },
     "execution_count": 56,
     "metadata": {},
     "output_type": "execute_result"
    }
   ],
   "source": [
    "len(set(epc['WINDOWS_DESCRIPTION']))"
   ]
  },
  {
   "cell_type": "code",
   "execution_count": 57,
   "metadata": {},
   "outputs": [
    {
     "data": {
      "text/plain": [
       "array(['Description: Fully double glazed ',\n",
       "       'Description: Fully double glazed', 'Description: Single glazed ',\n",
       "       'Description: Partial double glazing ',\n",
       "       'Description: High performance glazing ',\n",
       "       'Description: Some double glazing ', 'Description: Single glazed',\n",
       "       'Description: Partial double glazing',\n",
       "       'Description: Some double glazing',\n",
       "       'Description: Some secondary glazing ',\n",
       "       'Description: High performance glazing',\n",
       "       'Description: Fully triple glazed ',\n",
       "       'Description: Partial secondary glazing ',\n",
       "       'Description: Mostly double glazing ',\n",
       "       'Description: Mostly double glazing',\n",
       "       'Description: Full secondary glazing ',\n",
       "       'Description: Partial triple glazing ',\n",
       "       'Description: Multiple glazing throughout ',\n",
       "       'Description: Single glazeddouble glazing',\n",
       "       'Description: Mostly secondary glazing ',\n",
       "       'Description: Partial secondary glazing',\n",
       "       'Description: Some secondary glazing',\n",
       "       'Description: Full secondary glazing',\n",
       "       'Description: Mostly triple glazing ',\n",
       "       'Description: Fully triple glazed',\n",
       "       'Description: Fully secondary glazing',\n",
       "       'Description: Partial multiple glazing',\n",
       "       'Description: Some triple glazing',\n",
       "       'Description: Mostly secondary glazing',\n",
       "       'Description: Single glazedsecondary glazing',\n",
       "       'Description: Partial multiple glazing ',\n",
       "       'Description: Multiple glazing throughout',\n",
       "       'Description: Partial triple glazing',\n",
       "       'Description: Mostly triple glazing',\n",
       "       'Description: Mostly multiple glazing ',\n",
       "       'Description: Some triple glazing '], dtype=object)"
      ]
     },
     "execution_count": 57,
     "metadata": {},
     "output_type": "execute_result"
    }
   ],
   "source": [
    "epc['WINDOWS_DESCRIPTION'].unique()"
   ]
  },
  {
   "cell_type": "code",
   "execution_count": 58,
   "metadata": {},
   "outputs": [],
   "source": [
    "def windows_cleanup(df):\n",
    "    \n",
    "    # standardising descriptions\n",
    "    df['WINDOWS_DESCRIPTION'] = df['WINDOWS_DESCRIPTION'].str.strip(\" \")\n",
    "    df['WINDOWS_DESCRIPTION'] = df['WINDOWS_DESCRIPTION'].str.replace(\"Single glazeddouble glazing\",\"Single glazed and double glazing\")\n",
    "    df['WINDOWS_DESCRIPTION'] = df['WINDOWS_DESCRIPTION'].str.replace(\"Single glazedsecondary glazing\",\"Single glazed and secondary glazing\")\n",
    "    return df"
   ]
  },
  {
   "cell_type": "code",
   "execution_count": 59,
   "metadata": {},
   "outputs": [
    {
     "data": {
      "text/plain": [
       "20"
      ]
     },
     "execution_count": 59,
     "metadata": {},
     "output_type": "execute_result"
    }
   ],
   "source": [
    "epc = windows_cleanup(epc)\n",
    "len(set(epc['WINDOWS_DESCRIPTION']))"
   ]
  },
  {
   "cell_type": "code",
   "execution_count": 60,
   "metadata": {},
   "outputs": [
    {
     "data": {
      "text/plain": [
       "array(['Description: Fully double glazed', 'Description: Single glazed',\n",
       "       'Description: Partial double glazing',\n",
       "       'Description: High performance glazing',\n",
       "       'Description: Some double glazing',\n",
       "       'Description: Some secondary glazing',\n",
       "       'Description: Fully triple glazed',\n",
       "       'Description: Partial secondary glazing',\n",
       "       'Description: Mostly double glazing',\n",
       "       'Description: Full secondary glazing',\n",
       "       'Description: Partial triple glazing',\n",
       "       'Description: Multiple glazing throughout',\n",
       "       'Description: Single glazed and double glazing',\n",
       "       'Description: Mostly secondary glazing',\n",
       "       'Description: Mostly triple glazing',\n",
       "       'Description: Fully secondary glazing',\n",
       "       'Description: Partial multiple glazing',\n",
       "       'Description: Some triple glazing',\n",
       "       'Description: Single glazed and secondary glazing',\n",
       "       'Description: Mostly multiple glazing'], dtype=object)"
      ]
     },
     "execution_count": 60,
     "metadata": {},
     "output_type": "execute_result"
    }
   ],
   "source": [
    "epc['WINDOWS_DESCRIPTION'].unique()"
   ]
  },
  {
   "cell_type": "markdown",
   "metadata": {},
   "source": [
    "### MAINHEAT DESCRIPTION"
   ]
  },
  {
   "cell_type": "code",
   "execution_count": 62,
   "metadata": {},
   "outputs": [
    {
     "data": {
      "text/plain": [
       "67"
      ]
     },
     "execution_count": 62,
     "metadata": {},
     "output_type": "execute_result"
    }
   ],
   "source": [
    "len(set(epc['MAINHEAT_DESCRIPTION']))"
   ]
  },
  {
   "cell_type": "code",
   "execution_count": 63,
   "metadata": {},
   "outputs": [
    {
     "data": {
      "text/plain": [
       "array(['Boiler and radiators, mains gas ',\n",
       "       'Boiler and radiators, mains gas', 'Community scheme',\n",
       "       'Community scheme ', 'Electric storage heaters ',\n",
       "       'Room heaters, electric ', 'Electric storage heaters',\n",
       "       'No system present: electric heaters assumed ',\n",
       "       'Boiler and radiators, electric ',\n",
       "       'Boiler and underfloor heating, mains gas ',\n",
       "       'Room heaters, electric',\n",
       "       'No system present: electric heaters assumed',\n",
       "       'Boiler and radiators, LPG ', 'Boiler and radiators, electric',\n",
       "       'Room heaters, mains gas ', 'Air source heat pump , electric ',\n",
       "       'Warm air, Electricaire', 'Boiler and radiators, LPG',\n",
       "       'Room heaters, mains gas',\n",
       "       'Air source heat pump, Systems with radiators, electric ',\n",
       "       'Electric underfloor heating', 'Electric underfloor heating ',\n",
       "       'Boiler and underfloor heating, electric ',\n",
       "       'Warm air, Electricaire ',\n",
       "       'Boiler and underfloor heating, mains gas', 'Boiler, mains gas ',\n",
       "       'Room heaters, coal ', 'Boiler and underfloor heating, electric',\n",
       "       'Warm air, mains gas ',\n",
       "       'Air source heat pump, radiators, electric ',\n",
       "       'Warm air, mains gas',\n",
       "       'Air source heat pump, underfloor, electric ',\n",
       "       'Portable electric heaters assumed for most rooms',\n",
       "       'Portable electric heaters assumed for most rooms ',\n",
       "       'Boiler and radiators, oil', 'Electric ceiling heating ',\n",
       "       'Water source heat pump, radiators, electric ',\n",
       "       'Air source heat pump, radiators, electric',\n",
       "       'Electric ceiling heating', 'Electric ceiling heating, electric',\n",
       "       'Boiler and radiators, anthracite',\n",
       "       'Room heaters, dual fuel (mineral and wood) ',\n",
       "       'Boiler and radiators, anthracite ', 'Boiler and radiators, coal',\n",
       "       'Ground source heat pump, underfloor, electric ',\n",
       "       'Boiler and radiators, oil ',\n",
       "       'Boiler &amp; underfloor, mains gas ',\n",
       "       'Boiler and radiators, smokeless fuel ',\n",
       "       'Boiler and radiators, dual fuel (mineral and wood) ',\n",
       "       'Room heaters, anthracite', 'Boiler and radiators, wood pellets ',\n",
       "       'Room heaters, oil', 'Boiler and radiators, coal ',\n",
       "       'Room heaters, oil ',\n",
       "       'Ground source heat pump, radiators, electric',\n",
       "       'Room heaters, B30K ', 'Room heaters, coal',\n",
       "       'Boiler and radiators, bottled LPG',\n",
       "       'Ground source heat pump, radiators, electric ',\n",
       "       'Boiler and underfloor heating, LPG',\n",
       "       'Boiler and radiators, smokeless fuel',\n",
       "       'Air source heat pump, warm air, electric',\n",
       "       'Water source heat pump, radiators, electric',\n",
       "       'Room heaters, LPG ', 'Room heaters, smokeless fuel ',\n",
       "       'Room heaters,  ',\n",
       "       'Air source heat pump, Underfloor heating and radiators, pipes in screed above insulation, electric '],\n",
       "      dtype=object)"
      ]
     },
     "execution_count": 63,
     "metadata": {},
     "output_type": "execute_result"
    }
   ],
   "source": [
    "epc['MAINHEAT_DESCRIPTION'].unique()"
   ]
  },
  {
   "cell_type": "code",
   "execution_count": 64,
   "metadata": {},
   "outputs": [],
   "source": [
    "def mainheat_cleanup(df):\n",
    "    \n",
    "    # standardising descriptions\n",
    "    df['MAINHEAT_DESCRIPTION'] = df['MAINHEAT_DESCRIPTION'].str.strip(\" \")\n",
    "    \n",
    "    return df"
   ]
  },
  {
   "cell_type": "code",
   "execution_count": 65,
   "metadata": {},
   "outputs": [
    {
     "data": {
      "text/plain": [
       "43"
      ]
     },
     "execution_count": 65,
     "metadata": {},
     "output_type": "execute_result"
    }
   ],
   "source": [
    "epc = mainheat_cleanup(epc)\n",
    "len(set(epc['MAINHEAT_DESCRIPTION']))"
   ]
  },
  {
   "cell_type": "code",
   "execution_count": 66,
   "metadata": {},
   "outputs": [
    {
     "data": {
      "text/plain": [
       "array(['Boiler and radiators, mains gas', 'Community scheme',\n",
       "       'Electric storage heaters', 'Room heaters, electric',\n",
       "       'No system present: electric heaters assumed',\n",
       "       'Boiler and radiators, electric',\n",
       "       'Boiler and underfloor heating, mains gas',\n",
       "       'Boiler and radiators, LPG', 'Room heaters, mains gas',\n",
       "       'Air source heat pump , electric', 'Warm air, Electricaire',\n",
       "       'Air source heat pump, Systems with radiators, electric',\n",
       "       'Electric underfloor heating',\n",
       "       'Boiler and underfloor heating, electric', 'Boiler, mains gas',\n",
       "       'Room heaters, coal', 'Warm air, mains gas',\n",
       "       'Air source heat pump, radiators, electric',\n",
       "       'Air source heat pump, underfloor, electric',\n",
       "       'Portable electric heaters assumed for most rooms',\n",
       "       'Boiler and radiators, oil', 'Electric ceiling heating',\n",
       "       'Water source heat pump, radiators, electric',\n",
       "       'Electric ceiling heating, electric',\n",
       "       'Boiler and radiators, anthracite',\n",
       "       'Room heaters, dual fuel (mineral and wood)',\n",
       "       'Boiler and radiators, coal',\n",
       "       'Ground source heat pump, underfloor, electric',\n",
       "       'Boiler &amp; underfloor, mains gas',\n",
       "       'Boiler and radiators, smokeless fuel',\n",
       "       'Boiler and radiators, dual fuel (mineral and wood)',\n",
       "       'Room heaters, anthracite', 'Boiler and radiators, wood pellets',\n",
       "       'Room heaters, oil',\n",
       "       'Ground source heat pump, radiators, electric',\n",
       "       'Room heaters, B30K', 'Boiler and radiators, bottled LPG',\n",
       "       'Boiler and underfloor heating, LPG',\n",
       "       'Air source heat pump, warm air, electric', 'Room heaters, LPG',\n",
       "       'Room heaters, smokeless fuel', 'Room heaters,',\n",
       "       'Air source heat pump, Underfloor heating and radiators, pipes in screed above insulation, electric'],\n",
       "      dtype=object)"
      ]
     },
     "execution_count": 66,
     "metadata": {},
     "output_type": "execute_result"
    }
   ],
   "source": [
    "epc['MAINHEAT_DESCRIPTION'].unique()"
   ]
  },
  {
   "cell_type": "markdown",
   "metadata": {},
   "source": [
    "### MAINHEATCONT DESCRIPTION"
   ]
  },
  {
   "cell_type": "code",
   "execution_count": 68,
   "metadata": {},
   "outputs": [
    {
     "data": {
      "text/plain": [
       "76"
      ]
     },
     "execution_count": 68,
     "metadata": {},
     "output_type": "execute_result"
    }
   ],
   "source": [
    "len(set(epc['MAINHEATCONT_DESCRIPTION']))"
   ]
  },
  {
   "cell_type": "code",
   "execution_count": 69,
   "metadata": {},
   "outputs": [
    {
     "data": {
      "text/plain": [
       "array(['Programmer, TRVs and bypass ',\n",
       "       'Programmer, room thermostat and TRVs ',\n",
       "       'Programmer, TRVs and bypass',\n",
       "       'Flat rate charging, programmer and room thermostat',\n",
       "       'Flat rate charging, TRVs',\n",
       "       'Flat rate charging, programmer and TRVs ',\n",
       "       'Charging system linked to use of community heating, programmer and room thermostat ',\n",
       "       'Manual charge control ', 'Appliance thermostats ',\n",
       "       'Automatic charge control ', 'Manual charge control',\n",
       "       'Programmer and appliance thermostats ',\n",
       "       'Programmer, room thermostat and TRVs', 'None ',\n",
       "       'Room thermostat only ', 'Programmer, no room thermostat ',\n",
       "       'Controls for high heat retention storage heaters ',\n",
       "       'Programmer and room thermostat ',\n",
       "       'Time and temperature zone control ',\n",
       "       'No time or thermostatic control of room temperature ',\n",
       "       'Flat rate charging, TRVs ',\n",
       "       'Charging system linked to use of community heating, programmer and TRVs ',\n",
       "       'Flat rate charging, programmer and room thermostat ',\n",
       "       'Programmer and room thermostat', 'Programmer, no room thermostat',\n",
       "       'No time or thermostatic control of room temperature',\n",
       "       'Programmer and appliance thermostats', 'Automatic charge control',\n",
       "       'Appliance thermostats',\n",
       "       'No thermostatic control of room temperature',\n",
       "       'Room thermostats only ',\n",
       "       'No thermostatic control of room temperature ',\n",
       "       'Time and temperature zone control', 'None', 'TRVs and bypass ',\n",
       "       'Charging system linked to use of community heating, TRVs',\n",
       "       'Flat rate charging, programmer, no room thermostat ',\n",
       "       'Programmer and at least two room thermostats',\n",
       "       'Flat rate charging, programmer and TRVs',\n",
       "       'Charging system linked to use of community heating, programmer and at least two room thermostats ',\n",
       "       'TRVs and bypass', 'Programmer and at least two room thermostats ',\n",
       "       'Room thermostat only',\n",
       "       'Programmer, TRVs and boiler energy manager',\n",
       "       'Temperature zone control ',\n",
       "       'Flat rate charging, no thermostatic control of room temperature ',\n",
       "       'Flat rate charging, room thermostat only ',\n",
       "       'Programmer, TRVs and boiler energy manager ',\n",
       "       'Charging system linked to use of community heating, programmer and at least two room stats ',\n",
       "       'Charging system linked to use of community heating, programmer and TRVs',\n",
       "       'Charging system linked to use of community heating, programmer and room thermostat',\n",
       "       'Charging system linked to the use of community heating, programmer and TRVs',\n",
       "       'Room thermostats only',\n",
       "       'Flat rate charging, programmer, no room thermostat',\n",
       "       'Unit charging, programmer and TRVs',\n",
       "       'Programmer and room thermostats',\n",
       "       'Programmer, room thermostat and TRVs  ',\n",
       "       'Programmer and room thermostats ',\n",
       "       'Flat rate charging, no thermostatic control of room temperature',\n",
       "       'Flat rate charging, room thermostat only',\n",
       "       'Flat rate charging, programmer and at least two room thermostats ',\n",
       "       'Charging system linked to use of community heating, room thermostat only',\n",
       "       ' ', 'Unit charging, programmer and TRVs ',\n",
       "       'Charging system linked to use of community heating, TRVs ',\n",
       "       'Temperature zone control',\n",
       "       'Charging system linked to use of community heating, room thermostat only ',\n",
       "       'Rhaglennydd a thermostatau ystafell ',\n",
       "       'System dalu wedi__¢_¢__¬_¢__¢i chysylltu ____¢ defnyddio gwres cymunedol, TRVs',\n",
       "       'System dalu wedi__¢_¢__¬_¢__¢i chysylltu ____¢ defnyddio gwres cymunedol, TRVs ',\n",
       "       'Not relevant (supplies DHW only) ',\n",
       "       'Programmer, no Room thermostat',\n",
       "       'Rhaglennydd, thermostat ystafell a TRVs ',\n",
       "       'Not relevant (supplies DHW only)',\n",
       "       'Programmer, TRVs and flow switch',\n",
       "       '2207 Time and temperature zone control '], dtype=object)"
      ]
     },
     "execution_count": 69,
     "metadata": {},
     "output_type": "execute_result"
    }
   ],
   "source": [
    "epc['MAINHEATCONT_DESCRIPTION'].unique()"
   ]
  },
  {
   "cell_type": "code",
   "execution_count": 70,
   "metadata": {},
   "outputs": [],
   "source": [
    "def heat_control_cleanup(df):\n",
    "  \n",
    "    df['MAINHEATCONT_DESCRIPTION'] = df['MAINHEATCONT_DESCRIPTION'].str.lower()\n",
    "\n",
    "    df['MAINHEATCONT_DESCRIPTION'] = df['MAINHEATCONT_DESCRIPTION'].str.replace(\"__¢_¢__¬_¢__¢\",\"\")\n",
    "    df['MAINHEATCONT_DESCRIPTION'] = df['MAINHEATCONT_DESCRIPTION'].str.replace(\"____¢\",\"\")\n",
    "    df['MAINHEATCONT_DESCRIPTION'] = df['MAINHEATCONT_DESCRIPTION'].str.replace(\"2207\",\"\")\n",
    "    df['MAINHEATCONT_DESCRIPTION'] = df['MAINHEATCONT_DESCRIPTION'].str.replace(\"none\",\"\")\n",
    "    df['MAINHEATCONT_DESCRIPTION'] = df['MAINHEATCONT_DESCRIPTION'].str.strip(\" \")\n",
    "    df['MAINHEATCONT_DESCRIPTION'] = df['MAINHEATCONT_DESCRIPTION'].str.replace(\"system dalu wedii chysylltu  defnyddio gwres cymunedol, trvs\",\"charging system linked to use of community heating, trvs\")\n",
    "    df['MAINHEATCONT_DESCRIPTION'] = df['MAINHEATCONT_DESCRIPTION'].str.replace(\"rhaglennydd a thermostatau ystafell\",\"programmer and room thermostats\")\n",
    "    df['MAINHEATCONT_DESCRIPTION'] = df['MAINHEATCONT_DESCRIPTION'].str.replace(\"rhaglennydd, thermostat ystafell a trvs\",\"programmer, room thermostat and trvs\")\n",
    "    df['MAINHEATCONT_DESCRIPTION'] = df['MAINHEATCONT_DESCRIPTION'].str.replace(\"\",\"\")\n",
    "    \n",
    "    return df"
   ]
  },
  {
   "cell_type": "code",
   "execution_count": 71,
   "metadata": {},
   "outputs": [
    {
     "data": {
      "text/plain": [
       "37"
      ]
     },
     "execution_count": 71,
     "metadata": {},
     "output_type": "execute_result"
    }
   ],
   "source": [
    "epc = heat_control_cleanup(epc)\n",
    "len(set(epc['MAINHEATCONT_DESCRIPTION']))"
   ]
  },
  {
   "cell_type": "code",
   "execution_count": 72,
   "metadata": {},
   "outputs": [
    {
     "data": {
      "text/plain": [
       "array(['programmer, trvs and bypass',\n",
       "       'programmer, room thermostat and trvs',\n",
       "       'flat rate charging, programmer and room thermostat',\n",
       "       'flat rate charging, trvs',\n",
       "       'flat rate charging, programmer and trvs',\n",
       "       'charging system linked to use of community heating, programmer and room thermostat',\n",
       "       'manual charge control', 'appliance thermostats',\n",
       "       'automatic charge control', 'programmer and appliance thermostats',\n",
       "       '', 'room thermostat only', 'programmer, no room thermostat',\n",
       "       'controls for high heat retention storage heaters',\n",
       "       'programmer and room thermostat',\n",
       "       'time and temperature zone control',\n",
       "       'no time or thermostatic control of room temperature',\n",
       "       'charging system linked to use of community heating, programmer and trvs',\n",
       "       'no thermostatic control of room temperature',\n",
       "       'room thermostats only', 'trvs and bypass',\n",
       "       'charging system linked to use of community heating, trvs',\n",
       "       'flat rate charging, programmer, no room thermostat',\n",
       "       'programmer and at least two room thermostats',\n",
       "       'charging system linked to use of community heating, programmer and at least two room thermostats',\n",
       "       'programmer, trvs and boiler energy manager',\n",
       "       'temperature zone control',\n",
       "       'flat rate charging, no thermostatic control of room temperature',\n",
       "       'flat rate charging, room thermostat only',\n",
       "       'charging system linked to use of community heating, programmer and at least two room stats',\n",
       "       'charging system linked to the use of community heating, programmer and trvs',\n",
       "       'unit charging, programmer and trvs',\n",
       "       'programmer and room thermostats',\n",
       "       'flat rate charging, programmer and at least two room thermostats',\n",
       "       'charging system linked to use of community heating, room thermostat only',\n",
       "       'not relevant (supplies dhw only)',\n",
       "       'programmer, trvs and flow switch'], dtype=object)"
      ]
     },
     "execution_count": 72,
     "metadata": {},
     "output_type": "execute_result"
    }
   ],
   "source": [
    "epc['MAINHEATCONT_DESCRIPTION'].unique()"
   ]
  },
  {
   "cell_type": "markdown",
   "metadata": {},
   "source": [
    "### HOTWATER DESCRIPTINO"
   ]
  },
  {
   "cell_type": "code",
   "execution_count": 74,
   "metadata": {},
   "outputs": [
    {
     "data": {
      "text/plain": [
       "54"
      ]
     },
     "execution_count": 74,
     "metadata": {},
     "output_type": "execute_result"
    }
   ],
   "source": [
    "len(set(epc['HOTWATER_DESCRIPTION']))"
   ]
  },
  {
   "cell_type": "code",
   "execution_count": 75,
   "metadata": {},
   "outputs": [
    {
     "data": {
      "text/plain": [
       "array(['From main system ', 'From main system', 'Community scheme',\n",
       "       'Electric immersion, standard tariff',\n",
       "       'Electric instantaneous at point of use ',\n",
       "       'Community scheme, no cylinder thermostat ',\n",
       "       'Electric immersion, standard tariff ',\n",
       "       'Electric immersion, off-peak ', 'Electric immersion, off-peak',\n",
       "       'From main system, no cylinder thermostat ', 'Community scheme ',\n",
       "       'Electric instantaneous at point of use',\n",
       "       'From main system, flue gas heat recovery ',\n",
       "       'Gas range cooker, no cylinder thermostat',\n",
       "       'No system present: electric immersion assumed ',\n",
       "       'From main system, no cylinder thermostat',\n",
       "       'No system present: electric immersion assumed',\n",
       "       'Gas instantaneous at point of use',\n",
       "       'Electric instantaneous at point of use, waste water heat recovery ',\n",
       "       'Electric heat pump for water heating only ',\n",
       "       'From main system, waste water heat recovery ',\n",
       "       'Gas boiler/circulator, no cylinder thermostat ',\n",
       "       'Gas boiler/circulator ', 'Community scheme, plus solar ',\n",
       "       'Community scheme, no cylinder thermostat', 'Gas multipoint',\n",
       "       'Gas boiler/circulator, no cylinder thermostat', 'Gas multipoint ',\n",
       "       'Electric immersion, off-peak, plus solar',\n",
       "       'From secondary system ', 'Gas range cooker ',\n",
       "       'From main system, plus solar ',\n",
       "       'Gas instantaneous at point of use ',\n",
       "       'From secondary system, no cylinder thermostat ',\n",
       "       'Electric immersion, off-peak, plus solar ',\n",
       "       'Gas boiler/circulator',\n",
       "       'Back boiler (hot water only), gas, no cylinder thermostat',\n",
       "       'Back boiler (hot water only), gas, no cylinder thermostat ',\n",
       "       'Solid fuel boiler/circulator, no cylinder thermostat ',\n",
       "       'From main system, plus solar',\n",
       "       'Solid fuel boiler/circulator, no cylinder thermostat',\n",
       "       'Electric heat pump for water heating only, no cylinder thermostat ',\n",
       "       'Gas range cooker, no cylinder thermostat ',\n",
       "       'Community scheme, no cylinder thermostat, plus solar ',\n",
       "       'No system present: electric immersion assumed, plus solar',\n",
       "       'From main system, plus solar, no cylinder thermostat',\n",
       "       'Electric immersion, standard tariff, plus solar',\n",
       "       'From main system, flue gas heat recovery',\n",
       "       'Solid fuel boiler/circulator',\n",
       "       'Electric instantaneous at point of use, plus solar ',\n",
       "       'From main system, flue gas heat recovery, waste water heat recovery ',\n",
       "       'From main system, no cylinder thermostat, plus solar ',\n",
       "       'Electric immersion, standard tariff, plus solar ',\n",
       "       'From main system, plus solar, no cylinder thermostat '],\n",
       "      dtype=object)"
      ]
     },
     "execution_count": 75,
     "metadata": {},
     "output_type": "execute_result"
    }
   ],
   "source": [
    "epc['HOTWATER_DESCRIPTION'].unique()"
   ]
  },
  {
   "cell_type": "code",
   "execution_count": 76,
   "metadata": {},
   "outputs": [],
   "source": [
    "def hotwater_cleanup(df):\n",
    " \n",
    "    # removing spaces at the end\n",
    "    df['HOTWATER_DESCRIPTION'] = df['HOTWATER_DESCRIPTION'].str.strip(\" \")\n",
    "\n",
    "    return df"
   ]
  },
  {
   "cell_type": "code",
   "execution_count": 77,
   "metadata": {},
   "outputs": [
    {
     "data": {
      "text/plain": [
       "34"
      ]
     },
     "execution_count": 77,
     "metadata": {},
     "output_type": "execute_result"
    }
   ],
   "source": [
    "epc = hotwater_cleanup(epc)\n",
    "len(set(epc['HOTWATER_DESCRIPTION']))"
   ]
  },
  {
   "cell_type": "code",
   "execution_count": 78,
   "metadata": {},
   "outputs": [
    {
     "data": {
      "text/plain": [
       "array(['From main system', 'Community scheme',\n",
       "       'Electric immersion, standard tariff',\n",
       "       'Electric instantaneous at point of use',\n",
       "       'Community scheme, no cylinder thermostat',\n",
       "       'Electric immersion, off-peak',\n",
       "       'From main system, no cylinder thermostat',\n",
       "       'From main system, flue gas heat recovery',\n",
       "       'Gas range cooker, no cylinder thermostat',\n",
       "       'No system present: electric immersion assumed',\n",
       "       'Gas instantaneous at point of use',\n",
       "       'Electric instantaneous at point of use, waste water heat recovery',\n",
       "       'Electric heat pump for water heating only',\n",
       "       'From main system, waste water heat recovery',\n",
       "       'Gas boiler/circulator, no cylinder thermostat',\n",
       "       'Gas boiler/circulator', 'Community scheme, plus solar',\n",
       "       'Gas multipoint', 'Electric immersion, off-peak, plus solar',\n",
       "       'From secondary system', 'Gas range cooker',\n",
       "       'From main system, plus solar',\n",
       "       'From secondary system, no cylinder thermostat',\n",
       "       'Back boiler (hot water only), gas, no cylinder thermostat',\n",
       "       'Solid fuel boiler/circulator, no cylinder thermostat',\n",
       "       'Electric heat pump for water heating only, no cylinder thermostat',\n",
       "       'Community scheme, no cylinder thermostat, plus solar',\n",
       "       'No system present: electric immersion assumed, plus solar',\n",
       "       'From main system, plus solar, no cylinder thermostat',\n",
       "       'Electric immersion, standard tariff, plus solar',\n",
       "       'Solid fuel boiler/circulator',\n",
       "       'Electric instantaneous at point of use, plus solar',\n",
       "       'From main system, flue gas heat recovery, waste water heat recovery',\n",
       "       'From main system, no cylinder thermostat, plus solar'],\n",
       "      dtype=object)"
      ]
     },
     "execution_count": 78,
     "metadata": {},
     "output_type": "execute_result"
    }
   ],
   "source": [
    "epc['HOTWATER_DESCRIPTION'].unique()"
   ]
  },
  {
   "cell_type": "markdown",
   "metadata": {},
   "source": [
    "### LIGHTING DESCRIPTION"
   ]
  },
  {
   "cell_type": "code",
   "execution_count": 79,
   "metadata": {},
   "outputs": [
    {
     "data": {
      "text/plain": [
       "202"
      ]
     },
     "execution_count": 79,
     "metadata": {},
     "output_type": "execute_result"
    }
   ],
   "source": [
    "len(set(epc['LIGHTING_DESCRIPTION']))"
   ]
  },
  {
   "cell_type": "code",
   "execution_count": 80,
   "metadata": {},
   "outputs": [
    {
     "data": {
      "text/plain": [
       "array(['Low energy lighting in all fixed outlets ',\n",
       "       'Low energy lighting in 14% of fixed outlets',\n",
       "       'Low energy lighting in 17% of fixed outlets ',\n",
       "       'Low energy lighting in 33% of fixed outlets ',\n",
       "       'No low energy lighting',\n",
       "       'Low energy lighting in 38% of fixed outlets ',\n",
       "       'No low energy lighting ',\n",
       "       'Low energy lighting in all fixed outlets',\n",
       "       'Low energy lighting in 20% of fixed outlets ',\n",
       "       'Low energy lighting in 15% of fixed outlets ',\n",
       "       'Low energy lighting in 83% of fixed outlets ',\n",
       "       'Low energy lighting in 50% of fixed outlets ',\n",
       "       'Low energy lighting in 54% of fixed outlets ',\n",
       "       'Low energy lighting in 67% of fixed outlets',\n",
       "       'Low energy lighting in 75% of fixed outlets ',\n",
       "       'Low energy lighting in 17% of fixed outlets',\n",
       "       'Low energy lighting in 40% of fixed outlets ',\n",
       "       'Low energy lighting in 40% of fixed outlets',\n",
       "       'Low energy lighting in 14% of fixed outlets ',\n",
       "       'Low energy lighting in 86% of fixed outlets ',\n",
       "       'Low energy lighting in 43% of fixed outlets ',\n",
       "       'Low energy lighting in 57% of fixed outlets ',\n",
       "       'Low energy lighting in 71% of fixed outlets ',\n",
       "       'Low energy lighting in 29% of fixed outlets ',\n",
       "       'Low energy lighting in 60% of fixed outlets ',\n",
       "       'Low energy lighting in 84% of fixed outlets ',\n",
       "       'Low energy lighting in 27% of fixed outlets',\n",
       "       'Low energy lighting in 25% of fixed outlets ',\n",
       "       'Low energy lighting in 44% of fixed outlets ',\n",
       "       'Low energy lighting in 88% of fixed outlets ',\n",
       "       'Low energy lighting in 93% of fixed outlets ',\n",
       "       'Low energy lighting in 13% of fixed outlets ',\n",
       "       'Low energy lighting in 58% of fixed outlets ',\n",
       "       'Low energy lighting in 67% of fixed outlets ',\n",
       "       'Low energy lighting in 80% of fixed outlets ',\n",
       "       'Low energy lighting in 70% of fixed outlets ',\n",
       "       'Low energy lighting in 29% of fixed outlets',\n",
       "       'Low energy lighting in 77% of fixed outlets ',\n",
       "       'Low energy lighting in 18% of fixed outlets ',\n",
       "       'Low energy lighting in 75% of fixed outlets',\n",
       "       'Low energy lighting in 60% of fixed outlets',\n",
       "       'Low energy lighting in 45% of fixed outlets',\n",
       "       'Low energy lighting in 43% of fixed outlets',\n",
       "       'Low energy lighting in 63% of fixed outlets ',\n",
       "       'Low energy lighting in 3% of fixed outlets',\n",
       "       'Low energy lighting in 65% of fixed outlets ',\n",
       "       'Low energy lighting in 64% of fixed outlets ',\n",
       "       'Low energy lighting in 80% of fixed outlets',\n",
       "       'Low energy lighting in 50% of fixed outlets',\n",
       "       'Low energy lighting in 25% of fixed outlets',\n",
       "       'Low energy lighting in 86% of fixed outlets',\n",
       "       'Low energy lighting in 9% of fixed outlets ',\n",
       "       'Low energy lighting in 56% of fixed outlets ',\n",
       "       'Low energy lighting in 33% of fixed outlets',\n",
       "       'Low energy lighting in 22% of fixed outlets',\n",
       "       'Low energy lighting in 8% of fixed outlets',\n",
       "       'Low energy lighting in 62% of fixed outlets',\n",
       "       'Low energy lighting in 53% of fixed outlets ',\n",
       "       'Low energy lighting in 89% of fixed outlets ',\n",
       "       'Low energy lighting in 30% of fixed outlets',\n",
       "       'Low energy lighting in 27% of fixed outlets ',\n",
       "       'Low energy lighting in 65% of fixed outlets',\n",
       "       'Low energy lighting in 22% of fixed outlets ',\n",
       "       'Low energy lighting in 90% of fixed outlets',\n",
       "       'Low energy lighting in 85% of fixed outlets ',\n",
       "       'Low energy lighting in 59% of fixed outlets ',\n",
       "       'Low energy lighting in 87% of fixed outlets ',\n",
       "       'Low energy lighting in 94% of fixed outlets ',\n",
       "       'Low energy lighting in 7% of fixed outlets ',\n",
       "       'Low energy lighting in 11% of fixed outlets',\n",
       "       'Low energy lighting in 64% of fixed outlets',\n",
       "       'Low energy lighting in 12% of fixed outlets',\n",
       "       'Low energy lighting in 83% of fixed outlets',\n",
       "       'Low energy lighting in 78% of fixed outlets',\n",
       "       'Low energy lighting in 56% of fixed outlets',\n",
       "       'Low energy lighting in 10% of fixed outlets ',\n",
       "       'Low energy lighting in 20% of fixed outlets',\n",
       "       'Low energy lighting in 70% of fixed outlets',\n",
       "       'Low energy lighting in 78% of fixed outlets ',\n",
       "       'Low energy lighting in 36% of fixed outlets ',\n",
       "       'Low energy lighting in 41% of fixed outlets ',\n",
       "       'Low energy lighting in 10% of fixed outlets',\n",
       "       'Low energy lighting in 44% of fixed outlets',\n",
       "       'Low energy lighting in 4% of fixed outlets',\n",
       "       'Low energy lighting in 91% of fixed outlets',\n",
       "       'Low energy lighting in 13% of fixed outlets',\n",
       "       'Low energy lighting in 55% of fixed outlets',\n",
       "       'Low energy lighting in 42% of fixed outlets ',\n",
       "       'Low energy lighting in 30% of fixed outlets ',\n",
       "       'Low energy lighting in 82% of fixed outlets',\n",
       "       'Low energy lighting in 95% of fixed outlets ',\n",
       "       'Low energy lighting in 8% of fixed outlets ',\n",
       "       'Low energy lighting in 19% of fixed outlets ',\n",
       "       'Low energy lighting in 62% of fixed outlets ',\n",
       "       'Low energy lighting in 69% of fixed outlets ',\n",
       "       'Low energy lighting in 96% of fixed outlets ',\n",
       "       'Low energy lighting in 55% of fixed outlets ',\n",
       "       'Low energy lighting in 81% of fixed outlets ',\n",
       "       'Low energy lighting in 6% of fixed outlets ',\n",
       "       'Low energy lighting in 68% of fixed outlets ',\n",
       "       'Low energy lighting in 18% of fixed outlets',\n",
       "       'Low energy lighting in 90% of fixed outlets ',\n",
       "       'Low energy lighting in 92% of fixed outlets ',\n",
       "       'Low energy lighting in 74% of fixed outlets ',\n",
       "       'Low energy lighting in 12% of fixed outlets ',\n",
       "       'Low energy lighting in 45% of fixed outlets ',\n",
       "       'Low energy lighting in 31% of fixed outlets ',\n",
       "       'Low energy lighting in 71% of fixed outlets',\n",
       "       'Low energy lighting in 73% of fixed outlets ',\n",
       "       'Low energy lighting in 53% of fixed outlets',\n",
       "       'Low energy lighting in 9% of fixed outlets',\n",
       "       'Low energy lighting in 5% of fixed outlets ',\n",
       "       'Low energy lighting in 52% of fixed outlets ',\n",
       "       'Low energy lighting in 21% of fixed outlets ',\n",
       "       'Low energy lighting in 26% of fixed outlets ',\n",
       "       'Low energy lighting in 61% of fixed outlets ',\n",
       "       'Low energy lighting in 82% of fixed outlets ',\n",
       "       'Low energy lighting in 63% of fixed outlets',\n",
       "       'Low energy lighting in 23% of fixed outlets ',\n",
       "       'Low energy lighting in 38% of fixed outlets',\n",
       "       'Low energy lighting in 5% of fixed outlets',\n",
       "       'Low energy lighting in 88% of fixed outlets',\n",
       "       'Low energy lighting in 72% of fixed outlets ',\n",
       "       'Low energy lighting in 91% of fixed outlets ',\n",
       "       'Low energy lighting in 57% of fixed outlets',\n",
       "       'Low energy lighting in 7% of fixed outlets',\n",
       "       'Low energy lighting in 11% of fixed outlets ',\n",
       "       'Low energy lighting in 46% of fixed outlets ',\n",
       "       'Low energy lighting in 58% of fixed outlets',\n",
       "       'Low energy lighting in 15% of fixed outlets',\n",
       "       'Low energy lighting in 19% of fixed outlets',\n",
       "       'Low energy lighting in 6% of fixed outlets',\n",
       "       'Low energy lighting in 3% of fixed outlets ',\n",
       "       'Low energy lighting in 79% of fixed outlets ',\n",
       "       'Low energy lighting in 28% of fixed outlets ',\n",
       "       'Low energy lighting in 36% of fixed outlets',\n",
       "       'Low energy lighting in 32% of fixed outlets',\n",
       "       'Low energy lighting in 37% of fixed outlets ',\n",
       "       'Low energy lighting in 4% of fixed outlets ',\n",
       "       'Low energy lighting in 51% of fixed outlets ',\n",
       "       'Low energy lighting in 73% of fixed outlets',\n",
       "       'Low energy lighting in 39% of fixed outlets ',\n",
       "       'Low energy lighting in 21% of fixed outlets',\n",
       "       'Low energy lighting in 100% of fixed outlets',\n",
       "       'Low energy lighting in 92% of fixed outlets',\n",
       "       'Low energy lighting in 16% of fixed outlets ',\n",
       "       'Low energy lighting in 77% of fixed outlets',\n",
       "       'Low energy lighting in 87% of fixed outlets',\n",
       "       'Low energy lighting in 47% of fixed outlets ',\n",
       "       'Low energy lighting in 89% of fixed outlets',\n",
       "       'Low energy lighting in 24% of fixed outlets ',\n",
       "       'Low energy lighting in 76% of fixed outlets ',\n",
       "       'Low energy lighting in 26% of fixed outlets',\n",
       "       'Low energy lighting in 16% of fixed outlets',\n",
       "       'Low energy lighting in 23% of fixed outlets',\n",
       "       'Low energy lighting in 35% of fixed outlets ',\n",
       "       'Low energy lighting in 31% of fixed outlets',\n",
       "       'Low energy lighting in 42% of fixed outlets',\n",
       "       'Low energy lighting in 48% of fixed outlets ',\n",
       "       'Low energy lighting in 59% of fixed outlets',\n",
       "       'Low energy lighting in 35% of fixed outlets',\n",
       "       'Low energy lighting in 46% of fixed outlets',\n",
       "       'Low energy lighting in 69% of fixed outlets',\n",
       "       'Low energy lighting in 28% of fixed outlets',\n",
       "       'Low energy lighting in 32% of fixed outlets ',\n",
       "       'Low energy lighting in 54% of fixed outlets',\n",
       "       'Low energy lighting in 39% of fixed outlets',\n",
       "       'Low energy lighting in 47% of fixed outlets',\n",
       "       'Low energy lighting in 41% of fixed outlets',\n",
       "       'Low energy lighting in 2% of fixed outlets',\n",
       "       'Low energy lighting in 93% of fixed outlets',\n",
       "       'Low energy lighting in 100% of fixed outlets ',\n",
       "       'Low energy lighting in 48% of fixed outlets',\n",
       "       'Low energy lighting in 97% of fixed outlets ',\n",
       "       'Low energy lighting in 81% of fixed outlets',\n",
       "       'Low energy lighting in 61% of fixed outlets',\n",
       "       'Low energy lighting in 24% of fixed outlets',\n",
       "       'Low energy lighting in 2% of fixed outlets ',\n",
       "       'Low energy lighting in 85% of fixed outlets',\n",
       "       'Low energy lighting in 52% of fixed outlets',\n",
       "       'Low energy lighting in 68% of fixed outlets',\n",
       "       'Low energy lighting in 1% of fixed outlets ',\n",
       "       'Low energy lighting in 49% of fixed outlets ',\n",
       "       'Low energy lighting in 79% of fixed outlets',\n",
       "       'Low energy lighting in 98% of fixed outlets ',\n",
       "       'Low energy lighting in 76% of fixed outlets',\n",
       "       'Low energy lighting in 34% of fixed outlets ',\n",
       "       'Low energy lighting in 72% of fixed outlets',\n",
       "       'No Low energy lighting ',\n",
       "       'Low energy lighting in 37% of fixed outlets',\n",
       "       'Low energy lighting in 96% of fixed outlets',\n",
       "       'Low energy lighting in 1% of fixed outlets',\n",
       "       'Low energy lighting in 94% of fixed outlets',\n",
       "       'Low energy lighting in 34% of fixed outlets',\n",
       "       'Low energy lighting in 98% of fixed outlets',\n",
       "       'Low energy lighting in 95% of fixed outlets',\n",
       "       'Low energy lighting in 84% of fixed outlets',\n",
       "       'Low energy lighting in 74% of fixed outlets',\n",
       "       'Low energy lighting in 51% of fixed outlets',\n",
       "       'Low energy lighting in 66% of fixed outlets',\n",
       "       'Low energy lighting in 97% of fixed outlets',\n",
       "       'Low energy lighting in 66% of fixed outlets '], dtype=object)"
      ]
     },
     "execution_count": 80,
     "metadata": {},
     "output_type": "execute_result"
    }
   ],
   "source": [
    "epc['LIGHTING_DESCRIPTION'].unique()"
   ]
  },
  {
   "cell_type": "code",
   "execution_count": 81,
   "metadata": {},
   "outputs": [],
   "source": [
    "def lighting_perc_cleanup(df):\n",
    "    \n",
    "    ''' \n",
    "    rounds the low energy lighting percentage figure which is within a str field\n",
    "    Parameters\n",
    "      df: a dataframe containing a variable called 'LIGHTING_DESCRIPTION'\n",
    "    Returns a dataframe \n",
    "    '''\n",
    "    df['LIGHTING_DESCRIPTION'] = df['LIGHTING_DESCRIPTION'].str.strip(\" \")\n",
    "    df['LIGHTING_DESCRIPTION'] = df['LIGHTING_DESCRIPTION'].str.lower() \n",
    "    df['low_energy_lighting_perc'] = df['LIGHTING_DESCRIPTION'].str.findall(r'(\\d*)\\%')\n",
    "    df['low_energy_lighting_perc'] = round(df['low_energy_lighting_perc'].str[0].astype(float),-1)\n",
    "    df['LIGHTING_DESCRIPTION'] = df.apply(lambda row: 'low energy lighting %d%% of fixed outlets' % (int(row['low_energy_lighting_perc'])) if '%' in str(row['LIGHTING_DESCRIPTION']) else row['LIGHTING_DESCRIPTION'],axis=1)\n",
    "    df['LIGHTING_DESCRIPTION'] = df['LIGHTING_DESCRIPTION'].str.replace(\"low energy lighting in all fixed outlets\",\"low energy lighting 100% of fixed outlets\")\n",
    "    \n",
    "    return df"
   ]
  },
  {
   "cell_type": "code",
   "execution_count": 82,
   "metadata": {},
   "outputs": [],
   "source": [
    "epc = lighting_perc_cleanup(epc)"
   ]
  },
  {
   "cell_type": "code",
   "execution_count": 83,
   "metadata": {},
   "outputs": [
    {
     "data": {
      "text/plain": [
       "12"
      ]
     },
     "execution_count": 83,
     "metadata": {},
     "output_type": "execute_result"
    }
   ],
   "source": [
    "len(set(epc['LIGHTING_DESCRIPTION']))"
   ]
  },
  {
   "cell_type": "code",
   "execution_count": 84,
   "metadata": {},
   "outputs": [
    {
     "data": {
      "text/plain": [
       "array(['low energy lighting 100% of fixed outlets',\n",
       "       'low energy lighting 10% of fixed outlets',\n",
       "       'low energy lighting 20% of fixed outlets',\n",
       "       'low energy lighting 30% of fixed outlets',\n",
       "       'no low energy lighting',\n",
       "       'low energy lighting 40% of fixed outlets',\n",
       "       'low energy lighting 80% of fixed outlets',\n",
       "       'low energy lighting 50% of fixed outlets',\n",
       "       'low energy lighting 70% of fixed outlets',\n",
       "       'low energy lighting 90% of fixed outlets',\n",
       "       'low energy lighting 60% of fixed outlets',\n",
       "       'low energy lighting 0% of fixed outlets'], dtype=object)"
      ]
     },
     "execution_count": 84,
     "metadata": {},
     "output_type": "execute_result"
    }
   ],
   "source": [
    "epc['LIGHTING_DESCRIPTION'].unique()"
   ]
  },
  {
   "cell_type": "markdown",
   "metadata": {},
   "source": [
    "### Part 1 Construction Age Band"
   ]
  },
  {
   "cell_type": "code",
   "execution_count": 85,
   "metadata": {},
   "outputs": [
    {
     "data": {
      "text/plain": [
       "array(['1976-1983', '1950-1964', 'before 1919', '1965-1975', '1930-1949',\n",
       "       '1984-1991', '1992-1998', '1919-1929', '2003-2007', '1999-2002',\n",
       "       nan, '2008 onwards'], dtype=object)"
      ]
     },
     "execution_count": 85,
     "metadata": {},
     "output_type": "execute_result"
    }
   ],
   "source": [
    "epc['Part 1 Construction Age Band'].unique()"
   ]
  },
  {
   "cell_type": "code",
   "execution_count": 86,
   "metadata": {},
   "outputs": [
    {
     "data": {
      "text/plain": [
       "(13266, 32)"
      ]
     },
     "execution_count": 86,
     "metadata": {},
     "output_type": "execute_result"
    }
   ],
   "source": [
    "epc[epc['Part 1 Construction Age Band'].isna()].shape"
   ]
  },
  {
   "cell_type": "code",
   "execution_count": 87,
   "metadata": {},
   "outputs": [
    {
     "data": {
      "image/png": "[encoded data removed]",
      "text/plain": [
       "<Figure size 432x288 with 1 Axes>"
      ]
     },
     "metadata": {
      "needs_background": "light"
     },
     "output_type": "display_data"
    }
   ],
   "source": [
    "ax = sns.barplot(x=\"Part 1 Construction Age Band\", y=\"count\", \n",
    "                 data = epc[['Property_UPRN','Part 1 Construction Age Band']].groupby(['Part 1 Construction Age Band']).count().reset_index().rename(columns = {\"Property_UPRN\":'count'}))\n",
    "for label in ax.get_xticklabels():\n",
    "    label.set_rotation(45)\n",
    "    label.set_ha('right')"
   ]
  },
  {
   "cell_type": "markdown",
   "metadata": {},
   "source": [
    "### Solar Water Heating"
   ]
  },
  {
   "cell_type": "code",
   "execution_count": 88,
   "metadata": {},
   "outputs": [
    {
     "data": {
      "text/plain": [
       "array(['N', 'FALSE', nan, 'TRUE', 'Y'], dtype=object)"
      ]
     },
     "execution_count": 88,
     "metadata": {},
     "output_type": "execute_result"
    }
   ],
   "source": [
    "epc['Solar Water Heating'].unique()"
   ]
  },
  {
   "cell_type": "code",
   "execution_count": 89,
   "metadata": {},
   "outputs": [],
   "source": [
    "def solar_cleanup(df):\n",
    "\n",
    "    df['Solar Water Heating'] = df['Solar Water Heating'].str.replace(\"FALSE\",\"N\")\n",
    "    df['Solar Water Heating'] = df['Solar Water Heating'].str.replace(\"TRUE\",\"Y\")\n",
    "    df['Solar Water Heating'] = df['Solar Water Heating'].fillna('nan')\n",
    "    return df"
   ]
  },
  {
   "cell_type": "code",
   "execution_count": 90,
   "metadata": {},
   "outputs": [],
   "source": [
    "epc = solar_cleanup(epc)"
   ]
  },
  {
   "cell_type": "code",
   "execution_count": 91,
   "metadata": {},
   "outputs": [
    {
     "data": {
      "text/plain": [
       "array(['N', 'nan', 'Y'], dtype=object)"
      ]
     },
     "execution_count": 91,
     "metadata": {},
     "output_type": "execute_result"
    }
   ],
   "source": [
    "epc['Solar Water Heating'].unique()"
   ]
  },
  {
   "cell_type": "markdown",
   "metadata": {},
   "source": [
    "### Main Heating 1 Fuel Type"
   ]
  },
  {
   "cell_type": "code",
   "execution_count": 92,
   "metadata": {},
   "outputs": [
    {
     "data": {
      "text/plain": [
       "array(['mains gas (not community)', 'mains gas (community)',\n",
       "       'electricity (not community)',\n",
       "       'no heating/hot-water system or data is from a community network',\n",
       "       'Gas: mains gas', 'electricity (community)', 'LPG (not community)',\n",
       "       'biomass (community)',\n",
       "       'Electricity: electricity, unspecified tariff', nan,\n",
       "       'house coal (community)', 'oil (not community)', 'bottled LPG',\n",
       "       'anthracite', 'dual fuel - mineral + wood', 'smokeless coal',\n",
       "       'bulk wood pellets', 'oil (community)', 'B30K (not community)',\n",
       "       'biogas (not community)',\n",
       "       'appliances able to use mineral oil or liquid biofuel'],\n",
       "      dtype=object)"
      ]
     },
     "execution_count": 92,
     "metadata": {},
     "output_type": "execute_result"
    }
   ],
   "source": [
    "epc['Main Heating 1 Fuel Type'].unique()"
   ]
  },
  {
   "cell_type": "markdown",
   "metadata": {},
   "source": [
    "### Main Heating 1 Category"
   ]
  },
  {
   "cell_type": "code",
   "execution_count": 94,
   "metadata": {},
   "outputs": [
    {
     "data": {
      "text/plain": [
       "array(['boiler with radiators or underfloor heating',\n",
       "       'community heating system', 'electric storage heaters',\n",
       "       'room heaters', 'none',\n",
       "       'heat pump with radiators or underfloor heating',\n",
       "       'warm air system (not heat pump)', 'electric underfloor heating',\n",
       "       'other system', 'not recorded',\n",
       "       'heat pump with warm air distribution'], dtype=object)"
      ]
     },
     "execution_count": 94,
     "metadata": {},
     "output_type": "execute_result"
    }
   ],
   "source": [
    "epc['Main Heating 1 Category'].unique()"
   ]
  },
  {
   "cell_type": "markdown",
   "metadata": {},
   "source": [
    "### Main Heating 1 Control"
   ]
  },
  {
   "cell_type": "code",
   "execution_count": 95,
   "metadata": {},
   "outputs": [
    {
     "data": {
      "text/plain": [
       "array(['2107', '2106', '2304', '2307', '2305', '2309', '2401', '2602',\n",
       "       '2402', '2603', '2699', '2103', '2102', '2404', '2104', '2110',\n",
       "       '2101', '2306', '2601', '2604', '2111', '2310', '2302', '2105',\n",
       "       '2312', '2207', '2503', '2109', '2706', '2705', '2704', '2301',\n",
       "       '2303', '2605', '2504', '2703', '2204', '2501', '2311', '2206',\n",
       "       '2308', '2702', '0', '2701', '2112', '2205', '2502', '2506',\n",
       "       '2208', '2100', '2203', '2108', '2202'], dtype=object)"
      ]
     },
     "execution_count": 95,
     "metadata": {},
     "output_type": "execute_result"
    }
   ],
   "source": [
    "epc['Main Heating 1 Control'].unique()"
   ]
  },
  {
   "cell_type": "markdown",
   "metadata": {},
   "source": [
    "### Mechanical Ventilation"
   ]
  },
  {
   "cell_type": "code",
   "execution_count": 96,
   "metadata": {},
   "outputs": [
    {
     "data": {
      "text/plain": [
       "array(['natural', 'mechanical, extract only',\n",
       "       'mechanical, supply and extract', nan], dtype=object)"
      ]
     },
     "execution_count": 96,
     "metadata": {},
     "output_type": "execute_result"
    }
   ],
   "source": [
    "epc['Mechanical Ventilation'].unique()"
   ]
  },
  {
   "cell_type": "markdown",
   "metadata": {},
   "source": [
    "### Multiple Glazed Proportion"
   ]
  },
  {
   "cell_type": "code",
   "execution_count": 97,
   "metadata": {},
   "outputs": [
    {
     "data": {
      "text/plain": [
       "array([100,   0,  57,  50,  20,  40,  43,  13,  10,   1,  63,  71,  67,\n",
       "        98,  60,  83,  38,  70,  85,  29,  30,  28,  75,  66,  25,  88,\n",
       "        90,  11,  35,  42,  16,  84,  95,  80,  22,  97,  87,  81,  82,\n",
       "        17,  45,  15,  34,  14,  55,  65,  86,  56,  62,  33,  94,   5,\n",
       "        46,  73,  44,  64,  36,  58,  89,  32,  21,  96,  93,  12,  26,\n",
       "         7,  91,  23,  27,  92,  47,  72,  78,  18,  31,   9,  77,  99,\n",
       "         8,  24,  37,  59,   2,   6,  79,  54,  48,  53,  39,  68,  69,\n",
       "        19,  74,  52,  61,  76,  41,   4,   3])"
      ]
     },
     "execution_count": 97,
     "metadata": {},
     "output_type": "execute_result"
    }
   ],
   "source": [
    "epc['Multiple Glazed Proportion'].unique()"
   ]
  },
  {
   "cell_type": "markdown",
   "metadata": {},
   "source": [
    "### Multiple Glazing Type"
   ]
  },
  {
   "cell_type": "code",
   "execution_count": 98,
   "metadata": {},
   "outputs": [
    {
     "data": {
      "text/plain": [
       "array(['double glazing installed before 2002',\n",
       "       'double glazing installed during or after 2002',\n",
       "       'double glazing, unknown install date', 'not defined', nan,\n",
       "       'secondary glazing', 'triple, known data', 'triple glazing',\n",
       "       'single glazing', 'double, known data'], dtype=object)"
      ]
     },
     "execution_count": 98,
     "metadata": {},
     "output_type": "execute_result"
    }
   ],
   "source": [
    "epc['Multiple Glazing Type'].unique()"
   ]
  },
  {
   "cell_type": "markdown",
   "metadata": {},
   "source": [
    "### Transaction Type"
   ]
  },
  {
   "cell_type": "code",
   "execution_count": 99,
   "metadata": {},
   "outputs": [
    {
     "data": {
      "text/plain": [
       "array(['rental', 'marketed sale', 'none of the above', 'ECO assessment',\n",
       "       'assessment for green deal', 'new dwelling', 'non marketed sale',\n",
       "       'FiT application', 'following green deal', 'RHI application', nan,\n",
       "       'rental (private)', 'rental (social)'], dtype=object)"
      ]
     },
     "execution_count": 99,
     "metadata": {},
     "output_type": "execute_result"
    }
   ],
   "source": [
    "epc['Transaction Type'].unique()"
   ]
  },
  {
   "cell_type": "markdown",
   "metadata": {},
   "source": [
    "### Built Form"
   ]
  },
  {
   "cell_type": "code",
   "execution_count": 100,
   "metadata": {},
   "outputs": [
    {
     "data": {
      "text/plain": [
       "array(['Mid-Terrace', 'Detached', 'End-Terrace', 'Semi-Detached',\n",
       "       'Enclosed Mid-Terrace', 'Enclosed End-Terrace', nan], dtype=object)"
      ]
     },
     "execution_count": 100,
     "metadata": {},
     "output_type": "execute_result"
    }
   ],
   "source": [
    "epc['Built Form'].unique()"
   ]
  },
  {
   "cell_type": "markdown",
   "metadata": {},
   "source": [
    "### Property Type"
   ]
  },
  {
   "cell_type": "code",
   "execution_count": 101,
   "metadata": {},
   "outputs": [
    {
     "data": {
      "text/plain": [
       "array(['Flat', 'Bungalow', 'House', 'Maisonette', 'Park home'],\n",
       "      dtype=object)"
      ]
     },
     "execution_count": 101,
     "metadata": {},
     "output_type": "execute_result"
    }
   ],
   "source": [
    "epc['Property Type'].unique()"
   ]
  },
  {
   "cell_type": "markdown",
   "metadata": {},
   "source": [
    "## Combine categorical variables "
   ]
  },
  {
   "cell_type": "markdown",
   "metadata": {},
   "source": [
    "### Built Form"
   ]
  },
  {
   "cell_type": "code",
   "execution_count": 109,
   "metadata": {},
   "outputs": [],
   "source": [
    "built_dict = dict.fromkeys(['Mid-Terrace','End-Terrace','Enclosed Mid-Terrace','Enclosed End-Terrace'],'terraced')\n",
    "built_dict1 = dict.fromkeys(['Semi-Detached','Detached'],'detached')\n",
    "built_dict.update(built_dict1)"
   ]
  },
  {
   "cell_type": "code",
   "execution_count": 110,
   "metadata": {},
   "outputs": [],
   "source": [
    "epc['built_form'] =epc['Built Form'].replace(built_dict)"
   ]
  },
  {
   "cell_type": "code",
   "execution_count": 111,
   "metadata": {},
   "outputs": [
    {
     "data": {
      "text/plain": [
       "array(['terraced', 'detached', nan], dtype=object)"
      ]
     },
     "execution_count": 111,
     "metadata": {},
     "output_type": "execute_result"
    }
   ],
   "source": [
    "epc['built_form'].unique()"
   ]
  },
  {
   "cell_type": "code",
   "execution_count": 113,
   "metadata": {},
   "outputs": [],
   "source": [
    "epc = epc.drop(columns = ['Built Form'])"
   ]
  },
  {
   "cell_type": "markdown",
   "metadata": {},
   "source": [
    "## Drop columns"
   ]
  },
  {
   "cell_type": "code",
   "execution_count": 115,
   "metadata": {},
   "outputs": [
    {
     "data": {
      "text/plain": [
       "Index(['Property_UPRN', 'Total floor area (m2)',\n",
       "       'Current energy efficiency rating band', 'WALL_DESCRIPTION',\n",
       "       'ROOF_DESCRIPTION', 'FLOOR_DESCRIPTION', 'WINDOWS_DESCRIPTION',\n",
       "       'MAINHEAT_DESCRIPTION', 'MAINHEATCONT_DESCRIPTION',\n",
       "       'SECONDHEAT_DESCRIPTION', 'HOTWATER_DESCRIPTION',\n",
       "       'LIGHTING_DESCRIPTION', 'Part 1 Construction Age Band',\n",
       "       'Low Energy Lighting %', 'Part 1 Floor 0 Room Height',\n",
       "       'Main Heating 1 Fuel Type', 'Main Heating 1 Category',\n",
       "       'Main Heating 1 Control', 'Mechanical Ventilation', 'Meter Type',\n",
       "       'Multiple Glazed Proportion', 'Multiple Glazing Type',\n",
       "       'Open Fireplaces Count', 'Photovoltaic Supply', 'Solar Water Heating',\n",
       "       'Property Type', 'Transaction Type',\n",
       "       'walls_average_thermal_transmittance',\n",
       "       'roof_average_thermal_transmittance',\n",
       "       'floors_average_thermal_transmittance', 'low_energy_lighting_perc',\n",
       "       'built_form'],\n",
       "      dtype='object')"
      ]
     },
     "execution_count": 115,
     "metadata": {},
     "output_type": "execute_result"
    }
   ],
   "source": [
    "epc.columns"
   ]
  },
  {
   "cell_type": "code",
   "execution_count": 116,
   "metadata": {},
   "outputs": [],
   "source": [
    "fields_to_drop = ['walls_average_thermal_transmittance','roof_average_thermal_transmittance',\n",
    "                 'floors_average_thermal_transmittance','low_energy_lighting_perc']\n",
    "epc.drop(fields_to_drop,axis = 1,inplace=True)"
   ]
  },
  {
   "cell_type": "code",
   "execution_count": 117,
   "metadata": {},
   "outputs": [
    {
     "data": {
      "text/plain": [
       "Index(['Property_UPRN', 'Total floor area (m2)',\n",
       "       'Current energy efficiency rating band', 'WALL_DESCRIPTION',\n",
       "       'ROOF_DESCRIPTION', 'FLOOR_DESCRIPTION', 'WINDOWS_DESCRIPTION',\n",
       "       'MAINHEAT_DESCRIPTION', 'MAINHEATCONT_DESCRIPTION',\n",
       "       'SECONDHEAT_DESCRIPTION', 'HOTWATER_DESCRIPTION',\n",
       "       'LIGHTING_DESCRIPTION', 'Part 1 Construction Age Band',\n",
       "       'Low Energy Lighting %', 'Part 1 Floor 0 Room Height',\n",
       "       'Main Heating 1 Fuel Type', 'Main Heating 1 Category',\n",
       "       'Main Heating 1 Control', 'Mechanical Ventilation', 'Meter Type',\n",
       "       'Multiple Glazed Proportion', 'Multiple Glazing Type',\n",
       "       'Open Fireplaces Count', 'Photovoltaic Supply', 'Solar Water Heating',\n",
       "       'Property Type', 'Transaction Type', 'built_form'],\n",
       "      dtype='object')"
      ]
     },
     "execution_count": 117,
     "metadata": {},
     "output_type": "execute_result"
    }
   ],
   "source": [
    "epc.columns"
   ]
  },
  {
   "cell_type": "code",
   "execution_count": 119,
   "metadata": {},
   "outputs": [
    {
     "data": {
      "image/png": "[encoded data removed]",
      "text/plain": [
       "<Figure size 792x648 with 2 Axes>"
      ]
     },
     "metadata": {
      "needs_background": "light"
     },
     "output_type": "display_data"
    }
   ],
   "source": [
    "# plot correlations\n",
    "test_corr = epc.copy().drop(columns = ['Property_UPRN'])\n",
    "corr_all = test_corr.corr()\n",
    "corr_all = round(corr_all,2)\n",
    "mask = np.zeros_like(corr_all, dtype=np.bool)\n",
    "mask[np.triu_indices_from(mask)] = True\n",
    "f, ax = plt.subplots(figsize=(11, 9))\n",
    "sns.heatmap(corr_all, mask=mask, cmap='RdYlGn', vmin = -1, vmax=1, center=0,square=True, linewidths=.5, cbar_kws={\"shrink\": .5}, annot=True)\n",
    "plt.show()"
   ]
  },
  {
   "cell_type": "code",
   "execution_count": null,
   "metadata": {},
   "outputs": [],
   "source": []
  },
  {
   "cell_type": "code",
   "execution_count": null,
   "metadata": {},
   "outputs": [],
   "source": []
  },
  {
   "cell_type": "code",
   "execution_count": null,
   "metadata": {},
   "outputs": [],
   "source": []
  }
 ],
 "metadata": {
  "kernelspec": {
   "display_name": "Python 3",
   "language": "python",
   "name": "python3"
  },
  "language_info": {
   "codemirror_mode": {
    "name": "ipython",
    "version": 3
   },
   "file_extension": ".py",
   "mimetype": "text/x-python",
   "name": "python",
   "nbconvert_exporter": "python",
   "pygments_lexer": "ipython3",
   "version": "3.8.3"
  }
 },
 "nbformat": 4,
 "nbformat_minor": 4
}
